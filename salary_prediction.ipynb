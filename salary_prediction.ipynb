{
 "cells": [
  {
   "cell_type": "markdown",
   "id": "60dbb930",
   "metadata": {},
   "source": [
    "# Importing Necessary Libraries"
   ]
  },
  {
   "cell_type": "code",
   "execution_count": 1,
   "id": "92a74cb1",
   "metadata": {},
   "outputs": [],
   "source": [
    "import numpy as np\n",
    "import pandas as pd\n",
    "import matplotlib.pyplot as plt\n",
    "import seaborn as sns\n",
    "import warnings\n",
    "warnings.filterwarnings('ignore')\n",
    "from sklearn import set_config\n",
    "set_config(print_changed_only = False)"
   ]
  },
  {
   "cell_type": "markdown",
   "id": "f9f93402",
   "metadata": {},
   "source": [
    "# Loading Dataset"
   ]
  },
  {
   "cell_type": "code",
   "execution_count": 2,
   "id": "a1561287",
   "metadata": {},
   "outputs": [],
   "source": [
    "df = pd.read_csv(r'D:\\ICT kerala\\internship\\500000 Records.csv')"
   ]
  },
  {
   "cell_type": "code",
   "execution_count": 3,
   "id": "157803ad",
   "metadata": {},
   "outputs": [
    {
     "data": {
      "text/html": [
       "<div>\n",
       "<style scoped>\n",
       "    .dataframe tbody tr th:only-of-type {\n",
       "        vertical-align: middle;\n",
       "    }\n",
       "\n",
       "    .dataframe tbody tr th {\n",
       "        vertical-align: top;\n",
       "    }\n",
       "\n",
       "    .dataframe thead th {\n",
       "        text-align: right;\n",
       "    }\n",
       "</style>\n",
       "<table border=\"1\" class=\"dataframe\">\n",
       "  <thead>\n",
       "    <tr style=\"text-align: right;\">\n",
       "      <th></th>\n",
       "      <th>Emp ID</th>\n",
       "      <th>Name Prefix</th>\n",
       "      <th>First Name</th>\n",
       "      <th>Middle Initial</th>\n",
       "      <th>Last Name</th>\n",
       "      <th>Gender</th>\n",
       "      <th>E Mail</th>\n",
       "      <th>Father's Name</th>\n",
       "      <th>Mother's Name</th>\n",
       "      <th>Mother's Maiden Name</th>\n",
       "      <th>...</th>\n",
       "      <th>SSN</th>\n",
       "      <th>Phone No.</th>\n",
       "      <th>Place Name</th>\n",
       "      <th>County</th>\n",
       "      <th>City</th>\n",
       "      <th>State</th>\n",
       "      <th>Zip</th>\n",
       "      <th>Region</th>\n",
       "      <th>User Name</th>\n",
       "      <th>Password</th>\n",
       "    </tr>\n",
       "  </thead>\n",
       "  <tbody>\n",
       "    <tr>\n",
       "      <th>0</th>\n",
       "      <td>857211</td>\n",
       "      <td>Ms.</td>\n",
       "      <td>Hermila</td>\n",
       "      <td>J</td>\n",
       "      <td>Suhr</td>\n",
       "      <td>F</td>\n",
       "      <td>hermila.suhr@gmail.com</td>\n",
       "      <td>Todd Suhr</td>\n",
       "      <td>Cathrine Suhr</td>\n",
       "      <td>Hinojosa</td>\n",
       "      <td>...</td>\n",
       "      <td>275-17-8844</td>\n",
       "      <td>479-539-4593</td>\n",
       "      <td>Peach Orchard</td>\n",
       "      <td>Clay</td>\n",
       "      <td>Peach Orchard</td>\n",
       "      <td>AR</td>\n",
       "      <td>72453</td>\n",
       "      <td>South</td>\n",
       "      <td>hjsuhr</td>\n",
       "      <td>oZ%{&lt;6wN!A</td>\n",
       "    </tr>\n",
       "    <tr>\n",
       "      <th>1</th>\n",
       "      <td>514341</td>\n",
       "      <td>Mr.</td>\n",
       "      <td>Antonio</td>\n",
       "      <td>Q</td>\n",
       "      <td>Joy</td>\n",
       "      <td>M</td>\n",
       "      <td>antonio.joy@yahoo.com</td>\n",
       "      <td>Clark Joy</td>\n",
       "      <td>Clarisa Joy</td>\n",
       "      <td>Gagliardi</td>\n",
       "      <td>...</td>\n",
       "      <td>646-23-6213</td>\n",
       "      <td>229-234-6154</td>\n",
       "      <td>Rocky Ford</td>\n",
       "      <td>Screven</td>\n",
       "      <td>Rocky Ford</td>\n",
       "      <td>GA</td>\n",
       "      <td>30455</td>\n",
       "      <td>South</td>\n",
       "      <td>aqjoy</td>\n",
       "      <td>7_[%FE;saZ:B</td>\n",
       "    </tr>\n",
       "    <tr>\n",
       "      <th>2</th>\n",
       "      <td>314598</td>\n",
       "      <td>Prof.</td>\n",
       "      <td>Sebastian</td>\n",
       "      <td>J</td>\n",
       "      <td>Moores</td>\n",
       "      <td>M</td>\n",
       "      <td>sebastian.moores@ibm.com</td>\n",
       "      <td>Everette Moores</td>\n",
       "      <td>Sol Moores</td>\n",
       "      <td>Paden</td>\n",
       "      <td>...</td>\n",
       "      <td>499-29-8139</td>\n",
       "      <td>212-231-9912</td>\n",
       "      <td>Antwerp</td>\n",
       "      <td>Jefferson</td>\n",
       "      <td>Antwerp</td>\n",
       "      <td>NY</td>\n",
       "      <td>13608</td>\n",
       "      <td>Northeast</td>\n",
       "      <td>sjmoores</td>\n",
       "      <td>Z0:_dR*OQhQlF</td>\n",
       "    </tr>\n",
       "    <tr>\n",
       "      <th>3</th>\n",
       "      <td>987773</td>\n",
       "      <td>Mr.</td>\n",
       "      <td>Alec</td>\n",
       "      <td>S</td>\n",
       "      <td>Rittenhouse</td>\n",
       "      <td>M</td>\n",
       "      <td>alec.rittenhouse@gmail.com</td>\n",
       "      <td>Jefferey Rittenhouse</td>\n",
       "      <td>Moira Rittenhouse</td>\n",
       "      <td>Clanton</td>\n",
       "      <td>...</td>\n",
       "      <td>204-84-0943</td>\n",
       "      <td>229-873-6796</td>\n",
       "      <td>Milledgeville</td>\n",
       "      <td>Milledgeville</td>\n",
       "      <td>Milledgeville</td>\n",
       "      <td>GA</td>\n",
       "      <td>31059</td>\n",
       "      <td>South</td>\n",
       "      <td>asrittenhouse</td>\n",
       "      <td>7#?GLEd0</td>\n",
       "    </tr>\n",
       "    <tr>\n",
       "      <th>4</th>\n",
       "      <td>690850</td>\n",
       "      <td>Mr.</td>\n",
       "      <td>Reggie</td>\n",
       "      <td>C</td>\n",
       "      <td>Doughty</td>\n",
       "      <td>M</td>\n",
       "      <td>reggie.doughty@gmail.com</td>\n",
       "      <td>Jerrod Doughty</td>\n",
       "      <td>Crista Doughty</td>\n",
       "      <td>Abron</td>\n",
       "      <td>...</td>\n",
       "      <td>321-11-0416</td>\n",
       "      <td>314-677-4501</td>\n",
       "      <td>Springfield</td>\n",
       "      <td>Greene</td>\n",
       "      <td>Springfield</td>\n",
       "      <td>MO</td>\n",
       "      <td>65809</td>\n",
       "      <td>Midwest</td>\n",
       "      <td>rcdoughty</td>\n",
       "      <td>4~1!+LP^O</td>\n",
       "    </tr>\n",
       "  </tbody>\n",
       "</table>\n",
       "<p>5 rows × 37 columns</p>\n",
       "</div>"
      ],
      "text/plain": [
       "   Emp ID Name Prefix First Name Middle Initial    Last Name Gender  \\\n",
       "0  857211         Ms.    Hermila              J         Suhr      F   \n",
       "1  514341         Mr.    Antonio              Q          Joy      M   \n",
       "2  314598       Prof.  Sebastian              J       Moores      M   \n",
       "3  987773         Mr.       Alec              S  Rittenhouse      M   \n",
       "4  690850         Mr.     Reggie              C      Doughty      M   \n",
       "\n",
       "                       E Mail         Father's Name      Mother's Name  \\\n",
       "0      hermila.suhr@gmail.com             Todd Suhr      Cathrine Suhr   \n",
       "1       antonio.joy@yahoo.com             Clark Joy        Clarisa Joy   \n",
       "2    sebastian.moores@ibm.com       Everette Moores         Sol Moores   \n",
       "3  alec.rittenhouse@gmail.com  Jefferey Rittenhouse  Moira Rittenhouse   \n",
       "4    reggie.doughty@gmail.com        Jerrod Doughty     Crista Doughty   \n",
       "\n",
       "  Mother's Maiden Name  ...          SSN    Phone No.      Place Name  \\\n",
       "0             Hinojosa  ...  275-17-8844  479-539-4593  Peach Orchard   \n",
       "1            Gagliardi  ...  646-23-6213  229-234-6154     Rocky Ford   \n",
       "2                Paden  ...  499-29-8139  212-231-9912        Antwerp   \n",
       "3              Clanton  ...  204-84-0943  229-873-6796  Milledgeville   \n",
       "4                Abron  ...  321-11-0416  314-677-4501    Springfield   \n",
       "\n",
       "          County           City State    Zip     Region      User Name  \\\n",
       "0           Clay  Peach Orchard    AR  72453      South         hjsuhr   \n",
       "1        Screven     Rocky Ford    GA  30455      South          aqjoy   \n",
       "2      Jefferson        Antwerp    NY  13608  Northeast       sjmoores   \n",
       "3  Milledgeville  Milledgeville    GA  31059      South  asrittenhouse   \n",
       "4         Greene    Springfield    MO  65809    Midwest      rcdoughty   \n",
       "\n",
       "        Password  \n",
       "0     oZ%{<6wN!A  \n",
       "1   7_[%FE;saZ:B  \n",
       "2  Z0:_dR*OQhQlF  \n",
       "3       7#?GLEd0  \n",
       "4      4~1!+LP^O  \n",
       "\n",
       "[5 rows x 37 columns]"
      ]
     },
     "execution_count": 3,
     "metadata": {},
     "output_type": "execute_result"
    }
   ],
   "source": [
    "df.head()"
   ]
  },
  {
   "cell_type": "code",
   "execution_count": 4,
   "id": "3f4a0750",
   "metadata": {},
   "outputs": [
    {
     "data": {
      "text/html": [
       "<div>\n",
       "<style scoped>\n",
       "    .dataframe tbody tr th:only-of-type {\n",
       "        vertical-align: middle;\n",
       "    }\n",
       "\n",
       "    .dataframe tbody tr th {\n",
       "        vertical-align: top;\n",
       "    }\n",
       "\n",
       "    .dataframe thead th {\n",
       "        text-align: right;\n",
       "    }\n",
       "</style>\n",
       "<table border=\"1\" class=\"dataframe\">\n",
       "  <thead>\n",
       "    <tr style=\"text-align: right;\">\n",
       "      <th></th>\n",
       "      <th>Emp ID</th>\n",
       "      <th>Name Prefix</th>\n",
       "      <th>First Name</th>\n",
       "      <th>Middle Initial</th>\n",
       "      <th>Last Name</th>\n",
       "      <th>Gender</th>\n",
       "      <th>E Mail</th>\n",
       "      <th>Father's Name</th>\n",
       "      <th>Mother's Name</th>\n",
       "      <th>Mother's Maiden Name</th>\n",
       "      <th>...</th>\n",
       "      <th>SSN</th>\n",
       "      <th>Phone No.</th>\n",
       "      <th>Place Name</th>\n",
       "      <th>County</th>\n",
       "      <th>City</th>\n",
       "      <th>State</th>\n",
       "      <th>Zip</th>\n",
       "      <th>Region</th>\n",
       "      <th>User Name</th>\n",
       "      <th>Password</th>\n",
       "    </tr>\n",
       "  </thead>\n",
       "  <tbody>\n",
       "    <tr>\n",
       "      <th>499995</th>\n",
       "      <td>957337</td>\n",
       "      <td>Ms.</td>\n",
       "      <td>Doreen</td>\n",
       "      <td>R</td>\n",
       "      <td>Baisden</td>\n",
       "      <td>F</td>\n",
       "      <td>doreen.baisden@gmail.com</td>\n",
       "      <td>Earle Baisden</td>\n",
       "      <td>Rhonda Baisden</td>\n",
       "      <td>Garmon</td>\n",
       "      <td>...</td>\n",
       "      <td>527-99-1115</td>\n",
       "      <td>239-354-9713</td>\n",
       "      <td>Oviedo</td>\n",
       "      <td>Seminole</td>\n",
       "      <td>Oviedo</td>\n",
       "      <td>FL</td>\n",
       "      <td>32762</td>\n",
       "      <td>South</td>\n",
       "      <td>drbaisden</td>\n",
       "      <td>20b\\!jYn7?cV3]z</td>\n",
       "    </tr>\n",
       "    <tr>\n",
       "      <th>499996</th>\n",
       "      <td>745592</td>\n",
       "      <td>Mrs.</td>\n",
       "      <td>Kecia</td>\n",
       "      <td>J</td>\n",
       "      <td>Santiago</td>\n",
       "      <td>F</td>\n",
       "      <td>kecia.santiago@gmail.com</td>\n",
       "      <td>Adam Santiago</td>\n",
       "      <td>Jocelyn Santiago</td>\n",
       "      <td>Raffa</td>\n",
       "      <td>...</td>\n",
       "      <td>151-23-4853</td>\n",
       "      <td>304-758-5678</td>\n",
       "      <td>Piney View</td>\n",
       "      <td>Raleigh</td>\n",
       "      <td>Piney View</td>\n",
       "      <td>WV</td>\n",
       "      <td>25906</td>\n",
       "      <td>South</td>\n",
       "      <td>kjsantiago</td>\n",
       "      <td>nttgmPTt;v.h</td>\n",
       "    </tr>\n",
       "    <tr>\n",
       "      <th>499997</th>\n",
       "      <td>192620</td>\n",
       "      <td>Mrs.</td>\n",
       "      <td>Jestine</td>\n",
       "      <td>T</td>\n",
       "      <td>Sugg</td>\n",
       "      <td>F</td>\n",
       "      <td>jestine.sugg@aol.com</td>\n",
       "      <td>Neal Sugg</td>\n",
       "      <td>Barrie Sugg</td>\n",
       "      <td>Sorrell</td>\n",
       "      <td>...</td>\n",
       "      <td>731-28-9773</td>\n",
       "      <td>218-661-8511</td>\n",
       "      <td>Brooten</td>\n",
       "      <td>Stearns</td>\n",
       "      <td>Brooten</td>\n",
       "      <td>MN</td>\n",
       "      <td>56316</td>\n",
       "      <td>Midwest</td>\n",
       "      <td>jtsugg</td>\n",
       "      <td>M#p8|HJ$.</td>\n",
       "    </tr>\n",
       "    <tr>\n",
       "      <th>499998</th>\n",
       "      <td>249486</td>\n",
       "      <td>Mr.</td>\n",
       "      <td>Johnson</td>\n",
       "      <td>N</td>\n",
       "      <td>Mclelland</td>\n",
       "      <td>M</td>\n",
       "      <td>johnson.mclelland@gmail.com</td>\n",
       "      <td>Rudy Mclelland</td>\n",
       "      <td>Melony Mclelland</td>\n",
       "      <td>Tapscott</td>\n",
       "      <td>...</td>\n",
       "      <td>068-02-0503</td>\n",
       "      <td>480-662-6697</td>\n",
       "      <td>Forest Lakes</td>\n",
       "      <td>Coconino</td>\n",
       "      <td>Forest Lakes</td>\n",
       "      <td>AZ</td>\n",
       "      <td>85931</td>\n",
       "      <td>West</td>\n",
       "      <td>jnmclelland</td>\n",
       "      <td>kq8o$uQl/PJ@</td>\n",
       "    </tr>\n",
       "    <tr>\n",
       "      <th>499999</th>\n",
       "      <td>829485</td>\n",
       "      <td>Dr.</td>\n",
       "      <td>Rob</td>\n",
       "      <td>T</td>\n",
       "      <td>Swoope</td>\n",
       "      <td>M</td>\n",
       "      <td>rob.swoope@gmail.com</td>\n",
       "      <td>Titus Swoope</td>\n",
       "      <td>Rebbeca Swoope</td>\n",
       "      <td>Perrone</td>\n",
       "      <td>...</td>\n",
       "      <td>080-02-0094</td>\n",
       "      <td>215-889-9781</td>\n",
       "      <td>Moshannon</td>\n",
       "      <td>Centre</td>\n",
       "      <td>Moshannon</td>\n",
       "      <td>PA</td>\n",
       "      <td>16859</td>\n",
       "      <td>Northeast</td>\n",
       "      <td>rtswoope</td>\n",
       "      <td>lE/^}Clt</td>\n",
       "    </tr>\n",
       "  </tbody>\n",
       "</table>\n",
       "<p>5 rows × 37 columns</p>\n",
       "</div>"
      ],
      "text/plain": [
       "        Emp ID Name Prefix First Name Middle Initial  Last Name Gender  \\\n",
       "499995  957337         Ms.     Doreen              R    Baisden      F   \n",
       "499996  745592        Mrs.      Kecia              J   Santiago      F   \n",
       "499997  192620        Mrs.    Jestine              T       Sugg      F   \n",
       "499998  249486         Mr.    Johnson              N  Mclelland      M   \n",
       "499999  829485         Dr.        Rob              T     Swoope      M   \n",
       "\n",
       "                             E Mail   Father's Name     Mother's Name  \\\n",
       "499995     doreen.baisden@gmail.com   Earle Baisden    Rhonda Baisden   \n",
       "499996     kecia.santiago@gmail.com   Adam Santiago  Jocelyn Santiago   \n",
       "499997         jestine.sugg@aol.com       Neal Sugg       Barrie Sugg   \n",
       "499998  johnson.mclelland@gmail.com  Rudy Mclelland  Melony Mclelland   \n",
       "499999         rob.swoope@gmail.com    Titus Swoope    Rebbeca Swoope   \n",
       "\n",
       "       Mother's Maiden Name  ...          SSN    Phone No.     Place Name  \\\n",
       "499995               Garmon  ...  527-99-1115  239-354-9713        Oviedo   \n",
       "499996                Raffa  ...  151-23-4853  304-758-5678    Piney View   \n",
       "499997              Sorrell  ...  731-28-9773  218-661-8511       Brooten   \n",
       "499998             Tapscott  ...  068-02-0503  480-662-6697  Forest Lakes   \n",
       "499999              Perrone  ...  080-02-0094  215-889-9781     Moshannon   \n",
       "\n",
       "          County          City State    Zip     Region    User Name  \\\n",
       "499995  Seminole        Oviedo    FL  32762      South    drbaisden   \n",
       "499996   Raleigh    Piney View    WV  25906      South   kjsantiago   \n",
       "499997   Stearns       Brooten    MN  56316    Midwest       jtsugg   \n",
       "499998  Coconino  Forest Lakes    AZ  85931       West  jnmclelland   \n",
       "499999    Centre     Moshannon    PA  16859  Northeast     rtswoope   \n",
       "\n",
       "               Password  \n",
       "499995  20b\\!jYn7?cV3]z  \n",
       "499996     nttgmPTt;v.h  \n",
       "499997        M#p8|HJ$.  \n",
       "499998     kq8o$uQl/PJ@  \n",
       "499999         lE/^}Clt  \n",
       "\n",
       "[5 rows x 37 columns]"
      ]
     },
     "execution_count": 4,
     "metadata": {},
     "output_type": "execute_result"
    }
   ],
   "source": [
    "df.tail()"
   ]
  },
  {
   "cell_type": "markdown",
   "id": "e85dc795",
   "metadata": {},
   "source": [
    "# Exploring Dataset"
   ]
  },
  {
   "cell_type": "code",
   "execution_count": 5,
   "id": "76b27aa8",
   "metadata": {},
   "outputs": [
    {
     "data": {
      "text/plain": [
       "(500000, 37)"
      ]
     },
     "execution_count": 5,
     "metadata": {},
     "output_type": "execute_result"
    }
   ],
   "source": [
    "df.shape"
   ]
  },
  {
   "cell_type": "code",
   "execution_count": 6,
   "id": "1615912d",
   "metadata": {},
   "outputs": [
    {
     "data": {
      "text/plain": [
       "Emp ID                      int64\n",
       "Name Prefix                object\n",
       "First Name                 object\n",
       "Middle Initial             object\n",
       "Last Name                  object\n",
       "Gender                     object\n",
       "E Mail                     object\n",
       "Father's Name              object\n",
       "Mother's Name              object\n",
       "Mother's Maiden Name       object\n",
       "Date of Birth              object\n",
       "Time of Birth              object\n",
       "Age in Yrs.               float64\n",
       "Weight in Kgs.              int64\n",
       "Date of Joining            object\n",
       "Quarter of Joining         object\n",
       "Half of Joining            object\n",
       "Year of Joining             int64\n",
       "Month of Joining            int64\n",
       "Month Name of Joining      object\n",
       "Short Month                object\n",
       "Day of Joining              int64\n",
       "DOW of Joining             object\n",
       "Short DOW                  object\n",
       "Age in Company (Years)    float64\n",
       "Salary                      int64\n",
       "Last % Hike                object\n",
       "SSN                        object\n",
       "Phone No.                  object\n",
       "Place Name                 object\n",
       "County                     object\n",
       "City                       object\n",
       "State                      object\n",
       "Zip                         int64\n",
       "Region                     object\n",
       "User Name                  object\n",
       "Password                   object\n",
       "dtype: object"
      ]
     },
     "execution_count": 6,
     "metadata": {},
     "output_type": "execute_result"
    }
   ],
   "source": [
    "df.dtypes"
   ]
  },
  {
   "cell_type": "code",
   "execution_count": 7,
   "id": "17daa7ed",
   "metadata": {},
   "outputs": [
    {
     "data": {
      "text/plain": [
       "Index(['Emp ID', 'Name Prefix', 'First Name', 'Middle Initial', 'Last Name',\n",
       "       'Gender', 'E Mail', 'Father's Name', 'Mother's Name',\n",
       "       'Mother's Maiden Name', 'Date of Birth', 'Time of Birth', 'Age in Yrs.',\n",
       "       'Weight in Kgs.', 'Date of Joining', 'Quarter of Joining',\n",
       "       'Half of Joining', 'Year of Joining', 'Month of Joining',\n",
       "       'Month Name of Joining', 'Short Month', 'Day of Joining',\n",
       "       'DOW of Joining', 'Short DOW', 'Age in Company (Years)', 'Salary',\n",
       "       'Last % Hike', 'SSN', 'Phone No. ', 'Place Name', 'County', 'City',\n",
       "       'State', 'Zip', 'Region', 'User Name', 'Password'],\n",
       "      dtype='object')"
      ]
     },
     "execution_count": 7,
     "metadata": {},
     "output_type": "execute_result"
    }
   ],
   "source": [
    "df.columns"
   ]
  },
  {
   "cell_type": "markdown",
   "id": "bababbed",
   "metadata": {},
   "source": [
    "## Data Cleaning and preparation"
   ]
  },
  {
   "cell_type": "code",
   "execution_count": 8,
   "id": "0f09c45b",
   "metadata": {},
   "outputs": [],
   "source": [
    "df1 = df[['Emp ID', 'First Name', 'Middle Initial', 'Last Name','Gender', 'Age in Yrs.', 'Date of Joining', \n",
    "         'Age in Company (Years)', 'Salary', 'Last % Hike','City', 'State' ,'Region', 'County']]"
   ]
  },
  {
   "cell_type": "code",
   "execution_count": 9,
   "id": "191acc7b",
   "metadata": {},
   "outputs": [
    {
     "data": {
      "text/html": [
       "<div>\n",
       "<style scoped>\n",
       "    .dataframe tbody tr th:only-of-type {\n",
       "        vertical-align: middle;\n",
       "    }\n",
       "\n",
       "    .dataframe tbody tr th {\n",
       "        vertical-align: top;\n",
       "    }\n",
       "\n",
       "    .dataframe thead th {\n",
       "        text-align: right;\n",
       "    }\n",
       "</style>\n",
       "<table border=\"1\" class=\"dataframe\">\n",
       "  <thead>\n",
       "    <tr style=\"text-align: right;\">\n",
       "      <th></th>\n",
       "      <th>Emp ID</th>\n",
       "      <th>First Name</th>\n",
       "      <th>Middle Initial</th>\n",
       "      <th>Last Name</th>\n",
       "      <th>Gender</th>\n",
       "      <th>Age in Yrs.</th>\n",
       "      <th>Date of Joining</th>\n",
       "      <th>Age in Company (Years)</th>\n",
       "      <th>Salary</th>\n",
       "      <th>Last % Hike</th>\n",
       "      <th>City</th>\n",
       "      <th>State</th>\n",
       "      <th>Region</th>\n",
       "      <th>County</th>\n",
       "    </tr>\n",
       "  </thead>\n",
       "  <tbody>\n",
       "    <tr>\n",
       "      <th>0</th>\n",
       "      <td>857211</td>\n",
       "      <td>Hermila</td>\n",
       "      <td>J</td>\n",
       "      <td>Suhr</td>\n",
       "      <td>F</td>\n",
       "      <td>24.91</td>\n",
       "      <td>9/9/2014</td>\n",
       "      <td>2.88</td>\n",
       "      <td>168991</td>\n",
       "      <td>12%</td>\n",
       "      <td>Peach Orchard</td>\n",
       "      <td>AR</td>\n",
       "      <td>South</td>\n",
       "      <td>Clay</td>\n",
       "    </tr>\n",
       "    <tr>\n",
       "      <th>1</th>\n",
       "      <td>514341</td>\n",
       "      <td>Antonio</td>\n",
       "      <td>Q</td>\n",
       "      <td>Joy</td>\n",
       "      <td>M</td>\n",
       "      <td>27.61</td>\n",
       "      <td>8/2/2011</td>\n",
       "      <td>5.99</td>\n",
       "      <td>53504</td>\n",
       "      <td>30%</td>\n",
       "      <td>Rocky Ford</td>\n",
       "      <td>GA</td>\n",
       "      <td>South</td>\n",
       "      <td>Screven</td>\n",
       "    </tr>\n",
       "    <tr>\n",
       "      <th>2</th>\n",
       "      <td>314598</td>\n",
       "      <td>Sebastian</td>\n",
       "      <td>J</td>\n",
       "      <td>Moores</td>\n",
       "      <td>M</td>\n",
       "      <td>36.87</td>\n",
       "      <td>4/1/2012</td>\n",
       "      <td>5.33</td>\n",
       "      <td>158859</td>\n",
       "      <td>3%</td>\n",
       "      <td>Antwerp</td>\n",
       "      <td>NY</td>\n",
       "      <td>Northeast</td>\n",
       "      <td>Jefferson</td>\n",
       "    </tr>\n",
       "    <tr>\n",
       "      <th>3</th>\n",
       "      <td>987773</td>\n",
       "      <td>Alec</td>\n",
       "      <td>S</td>\n",
       "      <td>Rittenhouse</td>\n",
       "      <td>M</td>\n",
       "      <td>43.19</td>\n",
       "      <td>3/19/1998</td>\n",
       "      <td>19.37</td>\n",
       "      <td>76105</td>\n",
       "      <td>2%</td>\n",
       "      <td>Milledgeville</td>\n",
       "      <td>GA</td>\n",
       "      <td>South</td>\n",
       "      <td>Milledgeville</td>\n",
       "    </tr>\n",
       "    <tr>\n",
       "      <th>4</th>\n",
       "      <td>690850</td>\n",
       "      <td>Reggie</td>\n",
       "      <td>C</td>\n",
       "      <td>Doughty</td>\n",
       "      <td>M</td>\n",
       "      <td>50.70</td>\n",
       "      <td>1/4/2010</td>\n",
       "      <td>7.57</td>\n",
       "      <td>134436</td>\n",
       "      <td>8%</td>\n",
       "      <td>Springfield</td>\n",
       "      <td>MO</td>\n",
       "      <td>Midwest</td>\n",
       "      <td>Greene</td>\n",
       "    </tr>\n",
       "  </tbody>\n",
       "</table>\n",
       "</div>"
      ],
      "text/plain": [
       "   Emp ID First Name Middle Initial    Last Name Gender  Age in Yrs.  \\\n",
       "0  857211    Hermila              J         Suhr      F        24.91   \n",
       "1  514341    Antonio              Q          Joy      M        27.61   \n",
       "2  314598  Sebastian              J       Moores      M        36.87   \n",
       "3  987773       Alec              S  Rittenhouse      M        43.19   \n",
       "4  690850     Reggie              C      Doughty      M        50.70   \n",
       "\n",
       "  Date of Joining  Age in Company (Years)  Salary Last % Hike           City  \\\n",
       "0        9/9/2014                    2.88  168991         12%  Peach Orchard   \n",
       "1        8/2/2011                    5.99   53504         30%     Rocky Ford   \n",
       "2        4/1/2012                    5.33  158859          3%        Antwerp   \n",
       "3       3/19/1998                   19.37   76105          2%  Milledgeville   \n",
       "4        1/4/2010                    7.57  134436          8%    Springfield   \n",
       "\n",
       "  State     Region         County  \n",
       "0    AR      South           Clay  \n",
       "1    GA      South        Screven  \n",
       "2    NY  Northeast      Jefferson  \n",
       "3    GA      South  Milledgeville  \n",
       "4    MO    Midwest         Greene  "
      ]
     },
     "execution_count": 9,
     "metadata": {},
     "output_type": "execute_result"
    }
   ],
   "source": [
    "df1.head()"
   ]
  },
  {
   "cell_type": "code",
   "execution_count": 10,
   "id": "12e3d78e",
   "metadata": {},
   "outputs": [
    {
     "data": {
      "text/plain": [
       "Index(['Emp ID', 'First Name', 'Middle Initial', 'Last Name', 'Gender',\n",
       "       'Age in Yrs.', 'Date of Joining', 'Age in Company (Years)', 'Salary',\n",
       "       'Last % Hike', 'City', 'State', 'Region', 'County'],\n",
       "      dtype='object')"
      ]
     },
     "execution_count": 10,
     "metadata": {},
     "output_type": "execute_result"
    }
   ],
   "source": [
    "df1.columns"
   ]
  },
  {
   "cell_type": "code",
   "execution_count": 11,
   "id": "40d74d76",
   "metadata": {},
   "outputs": [],
   "source": [
    "df1['full_name'] = df1['First Name'] + ' ' + df1['Middle Initial'] + ' ' + df1['Last Name']"
   ]
  },
  {
   "cell_type": "code",
   "execution_count": 12,
   "id": "dda1cdc5",
   "metadata": {},
   "outputs": [
    {
     "data": {
      "text/html": [
       "<div>\n",
       "<style scoped>\n",
       "    .dataframe tbody tr th:only-of-type {\n",
       "        vertical-align: middle;\n",
       "    }\n",
       "\n",
       "    .dataframe tbody tr th {\n",
       "        vertical-align: top;\n",
       "    }\n",
       "\n",
       "    .dataframe thead th {\n",
       "        text-align: right;\n",
       "    }\n",
       "</style>\n",
       "<table border=\"1\" class=\"dataframe\">\n",
       "  <thead>\n",
       "    <tr style=\"text-align: right;\">\n",
       "      <th></th>\n",
       "      <th>Emp ID</th>\n",
       "      <th>First Name</th>\n",
       "      <th>Middle Initial</th>\n",
       "      <th>Last Name</th>\n",
       "      <th>Gender</th>\n",
       "      <th>Age in Yrs.</th>\n",
       "      <th>Date of Joining</th>\n",
       "      <th>Age in Company (Years)</th>\n",
       "      <th>Salary</th>\n",
       "      <th>Last % Hike</th>\n",
       "      <th>City</th>\n",
       "      <th>State</th>\n",
       "      <th>Region</th>\n",
       "      <th>County</th>\n",
       "      <th>full_name</th>\n",
       "    </tr>\n",
       "  </thead>\n",
       "  <tbody>\n",
       "    <tr>\n",
       "      <th>0</th>\n",
       "      <td>857211</td>\n",
       "      <td>Hermila</td>\n",
       "      <td>J</td>\n",
       "      <td>Suhr</td>\n",
       "      <td>F</td>\n",
       "      <td>24.91</td>\n",
       "      <td>9/9/2014</td>\n",
       "      <td>2.88</td>\n",
       "      <td>168991</td>\n",
       "      <td>12%</td>\n",
       "      <td>Peach Orchard</td>\n",
       "      <td>AR</td>\n",
       "      <td>South</td>\n",
       "      <td>Clay</td>\n",
       "      <td>Hermila J Suhr</td>\n",
       "    </tr>\n",
       "    <tr>\n",
       "      <th>1</th>\n",
       "      <td>514341</td>\n",
       "      <td>Antonio</td>\n",
       "      <td>Q</td>\n",
       "      <td>Joy</td>\n",
       "      <td>M</td>\n",
       "      <td>27.61</td>\n",
       "      <td>8/2/2011</td>\n",
       "      <td>5.99</td>\n",
       "      <td>53504</td>\n",
       "      <td>30%</td>\n",
       "      <td>Rocky Ford</td>\n",
       "      <td>GA</td>\n",
       "      <td>South</td>\n",
       "      <td>Screven</td>\n",
       "      <td>Antonio Q Joy</td>\n",
       "    </tr>\n",
       "    <tr>\n",
       "      <th>2</th>\n",
       "      <td>314598</td>\n",
       "      <td>Sebastian</td>\n",
       "      <td>J</td>\n",
       "      <td>Moores</td>\n",
       "      <td>M</td>\n",
       "      <td>36.87</td>\n",
       "      <td>4/1/2012</td>\n",
       "      <td>5.33</td>\n",
       "      <td>158859</td>\n",
       "      <td>3%</td>\n",
       "      <td>Antwerp</td>\n",
       "      <td>NY</td>\n",
       "      <td>Northeast</td>\n",
       "      <td>Jefferson</td>\n",
       "      <td>Sebastian J Moores</td>\n",
       "    </tr>\n",
       "    <tr>\n",
       "      <th>3</th>\n",
       "      <td>987773</td>\n",
       "      <td>Alec</td>\n",
       "      <td>S</td>\n",
       "      <td>Rittenhouse</td>\n",
       "      <td>M</td>\n",
       "      <td>43.19</td>\n",
       "      <td>3/19/1998</td>\n",
       "      <td>19.37</td>\n",
       "      <td>76105</td>\n",
       "      <td>2%</td>\n",
       "      <td>Milledgeville</td>\n",
       "      <td>GA</td>\n",
       "      <td>South</td>\n",
       "      <td>Milledgeville</td>\n",
       "      <td>Alec S Rittenhouse</td>\n",
       "    </tr>\n",
       "    <tr>\n",
       "      <th>4</th>\n",
       "      <td>690850</td>\n",
       "      <td>Reggie</td>\n",
       "      <td>C</td>\n",
       "      <td>Doughty</td>\n",
       "      <td>M</td>\n",
       "      <td>50.70</td>\n",
       "      <td>1/4/2010</td>\n",
       "      <td>7.57</td>\n",
       "      <td>134436</td>\n",
       "      <td>8%</td>\n",
       "      <td>Springfield</td>\n",
       "      <td>MO</td>\n",
       "      <td>Midwest</td>\n",
       "      <td>Greene</td>\n",
       "      <td>Reggie C Doughty</td>\n",
       "    </tr>\n",
       "  </tbody>\n",
       "</table>\n",
       "</div>"
      ],
      "text/plain": [
       "   Emp ID First Name Middle Initial    Last Name Gender  Age in Yrs.  \\\n",
       "0  857211    Hermila              J         Suhr      F        24.91   \n",
       "1  514341    Antonio              Q          Joy      M        27.61   \n",
       "2  314598  Sebastian              J       Moores      M        36.87   \n",
       "3  987773       Alec              S  Rittenhouse      M        43.19   \n",
       "4  690850     Reggie              C      Doughty      M        50.70   \n",
       "\n",
       "  Date of Joining  Age in Company (Years)  Salary Last % Hike           City  \\\n",
       "0        9/9/2014                    2.88  168991         12%  Peach Orchard   \n",
       "1        8/2/2011                    5.99   53504         30%     Rocky Ford   \n",
       "2        4/1/2012                    5.33  158859          3%        Antwerp   \n",
       "3       3/19/1998                   19.37   76105          2%  Milledgeville   \n",
       "4        1/4/2010                    7.57  134436          8%    Springfield   \n",
       "\n",
       "  State     Region         County           full_name  \n",
       "0    AR      South           Clay      Hermila J Suhr  \n",
       "1    GA      South        Screven       Antonio Q Joy  \n",
       "2    NY  Northeast      Jefferson  Sebastian J Moores  \n",
       "3    GA      South  Milledgeville  Alec S Rittenhouse  \n",
       "4    MO    Midwest         Greene    Reggie C Doughty  "
      ]
     },
     "execution_count": 12,
     "metadata": {},
     "output_type": "execute_result"
    }
   ],
   "source": [
    "df1.head()"
   ]
  },
  {
   "cell_type": "code",
   "execution_count": 13,
   "id": "acfef117",
   "metadata": {},
   "outputs": [
    {
     "data": {
      "text/plain": [
       "Index(['Emp ID', 'First Name', 'Middle Initial', 'Last Name', 'Gender',\n",
       "       'Age in Yrs.', 'Date of Joining', 'Age in Company (Years)', 'Salary',\n",
       "       'Last % Hike', 'City', 'State', 'Region', 'County', 'full_name'],\n",
       "      dtype='object')"
      ]
     },
     "execution_count": 13,
     "metadata": {},
     "output_type": "execute_result"
    }
   ],
   "source": [
    "df1.columns"
   ]
  },
  {
   "cell_type": "code",
   "execution_count": 14,
   "id": "b1145490",
   "metadata": {},
   "outputs": [],
   "source": [
    "df1.drop(['First Name', 'Middle Initial', 'Last Name'], 1, inplace = True)"
   ]
  },
  {
   "cell_type": "code",
   "execution_count": 15,
   "id": "c4506bd4",
   "metadata": {},
   "outputs": [
    {
     "data": {
      "text/html": [
       "<div>\n",
       "<style scoped>\n",
       "    .dataframe tbody tr th:only-of-type {\n",
       "        vertical-align: middle;\n",
       "    }\n",
       "\n",
       "    .dataframe tbody tr th {\n",
       "        vertical-align: top;\n",
       "    }\n",
       "\n",
       "    .dataframe thead th {\n",
       "        text-align: right;\n",
       "    }\n",
       "</style>\n",
       "<table border=\"1\" class=\"dataframe\">\n",
       "  <thead>\n",
       "    <tr style=\"text-align: right;\">\n",
       "      <th></th>\n",
       "      <th>Emp ID</th>\n",
       "      <th>Gender</th>\n",
       "      <th>Age in Yrs.</th>\n",
       "      <th>Date of Joining</th>\n",
       "      <th>Age in Company (Years)</th>\n",
       "      <th>Salary</th>\n",
       "      <th>Last % Hike</th>\n",
       "      <th>City</th>\n",
       "      <th>State</th>\n",
       "      <th>Region</th>\n",
       "      <th>County</th>\n",
       "      <th>full_name</th>\n",
       "    </tr>\n",
       "  </thead>\n",
       "  <tbody>\n",
       "    <tr>\n",
       "      <th>0</th>\n",
       "      <td>857211</td>\n",
       "      <td>F</td>\n",
       "      <td>24.91</td>\n",
       "      <td>9/9/2014</td>\n",
       "      <td>2.88</td>\n",
       "      <td>168991</td>\n",
       "      <td>12%</td>\n",
       "      <td>Peach Orchard</td>\n",
       "      <td>AR</td>\n",
       "      <td>South</td>\n",
       "      <td>Clay</td>\n",
       "      <td>Hermila J Suhr</td>\n",
       "    </tr>\n",
       "    <tr>\n",
       "      <th>1</th>\n",
       "      <td>514341</td>\n",
       "      <td>M</td>\n",
       "      <td>27.61</td>\n",
       "      <td>8/2/2011</td>\n",
       "      <td>5.99</td>\n",
       "      <td>53504</td>\n",
       "      <td>30%</td>\n",
       "      <td>Rocky Ford</td>\n",
       "      <td>GA</td>\n",
       "      <td>South</td>\n",
       "      <td>Screven</td>\n",
       "      <td>Antonio Q Joy</td>\n",
       "    </tr>\n",
       "    <tr>\n",
       "      <th>2</th>\n",
       "      <td>314598</td>\n",
       "      <td>M</td>\n",
       "      <td>36.87</td>\n",
       "      <td>4/1/2012</td>\n",
       "      <td>5.33</td>\n",
       "      <td>158859</td>\n",
       "      <td>3%</td>\n",
       "      <td>Antwerp</td>\n",
       "      <td>NY</td>\n",
       "      <td>Northeast</td>\n",
       "      <td>Jefferson</td>\n",
       "      <td>Sebastian J Moores</td>\n",
       "    </tr>\n",
       "    <tr>\n",
       "      <th>3</th>\n",
       "      <td>987773</td>\n",
       "      <td>M</td>\n",
       "      <td>43.19</td>\n",
       "      <td>3/19/1998</td>\n",
       "      <td>19.37</td>\n",
       "      <td>76105</td>\n",
       "      <td>2%</td>\n",
       "      <td>Milledgeville</td>\n",
       "      <td>GA</td>\n",
       "      <td>South</td>\n",
       "      <td>Milledgeville</td>\n",
       "      <td>Alec S Rittenhouse</td>\n",
       "    </tr>\n",
       "    <tr>\n",
       "      <th>4</th>\n",
       "      <td>690850</td>\n",
       "      <td>M</td>\n",
       "      <td>50.70</td>\n",
       "      <td>1/4/2010</td>\n",
       "      <td>7.57</td>\n",
       "      <td>134436</td>\n",
       "      <td>8%</td>\n",
       "      <td>Springfield</td>\n",
       "      <td>MO</td>\n",
       "      <td>Midwest</td>\n",
       "      <td>Greene</td>\n",
       "      <td>Reggie C Doughty</td>\n",
       "    </tr>\n",
       "  </tbody>\n",
       "</table>\n",
       "</div>"
      ],
      "text/plain": [
       "   Emp ID Gender  Age in Yrs. Date of Joining  Age in Company (Years)  Salary  \\\n",
       "0  857211      F        24.91        9/9/2014                    2.88  168991   \n",
       "1  514341      M        27.61        8/2/2011                    5.99   53504   \n",
       "2  314598      M        36.87        4/1/2012                    5.33  158859   \n",
       "3  987773      M        43.19       3/19/1998                   19.37   76105   \n",
       "4  690850      M        50.70        1/4/2010                    7.57  134436   \n",
       "\n",
       "  Last % Hike           City State     Region         County  \\\n",
       "0         12%  Peach Orchard    AR      South           Clay   \n",
       "1         30%     Rocky Ford    GA      South        Screven   \n",
       "2          3%        Antwerp    NY  Northeast      Jefferson   \n",
       "3          2%  Milledgeville    GA      South  Milledgeville   \n",
       "4          8%    Springfield    MO    Midwest         Greene   \n",
       "\n",
       "            full_name  \n",
       "0      Hermila J Suhr  \n",
       "1       Antonio Q Joy  \n",
       "2  Sebastian J Moores  \n",
       "3  Alec S Rittenhouse  \n",
       "4    Reggie C Doughty  "
      ]
     },
     "execution_count": 15,
     "metadata": {},
     "output_type": "execute_result"
    }
   ],
   "source": [
    "df1.head()"
   ]
  },
  {
   "cell_type": "code",
   "execution_count": 16,
   "id": "7bfe8e83",
   "metadata": {},
   "outputs": [
    {
     "data": {
      "text/plain": [
       "(500000, 12)"
      ]
     },
     "execution_count": 16,
     "metadata": {},
     "output_type": "execute_result"
    }
   ],
   "source": [
    "df1.shape"
   ]
  },
  {
   "cell_type": "code",
   "execution_count": 17,
   "id": "fce8aaea",
   "metadata": {},
   "outputs": [
    {
     "data": {
      "text/plain": [
       "Emp ID                    0\n",
       "Gender                    0\n",
       "Age in Yrs.               0\n",
       "Date of Joining           0\n",
       "Age in Company (Years)    0\n",
       "Salary                    0\n",
       "Last % Hike               0\n",
       "City                      0\n",
       "State                     0\n",
       "Region                    0\n",
       "County                    0\n",
       "full_name                 0\n",
       "dtype: int64"
      ]
     },
     "execution_count": 17,
     "metadata": {},
     "output_type": "execute_result"
    }
   ],
   "source": [
    "df1.isna().sum()"
   ]
  },
  {
   "cell_type": "code",
   "execution_count": 18,
   "id": "c92f7307",
   "metadata": {},
   "outputs": [],
   "source": [
    "df1['Date of Joining'] = pd.to_datetime(df1['Date of Joining'])"
   ]
  },
  {
   "cell_type": "code",
   "execution_count": 19,
   "id": "40690fc8",
   "metadata": {},
   "outputs": [
    {
     "name": "stdout",
     "output_type": "stream",
     "text": [
      "<class 'pandas.core.frame.DataFrame'>\n",
      "RangeIndex: 500000 entries, 0 to 499999\n",
      "Data columns (total 12 columns):\n",
      " #   Column                  Non-Null Count   Dtype         \n",
      "---  ------                  --------------   -----         \n",
      " 0   Emp ID                  500000 non-null  int64         \n",
      " 1   Gender                  500000 non-null  object        \n",
      " 2   Age in Yrs.             500000 non-null  float64       \n",
      " 3   Date of Joining         500000 non-null  datetime64[ns]\n",
      " 4   Age in Company (Years)  500000 non-null  float64       \n",
      " 5   Salary                  500000 non-null  int64         \n",
      " 6   Last % Hike             500000 non-null  object        \n",
      " 7   City                    500000 non-null  object        \n",
      " 8   State                   500000 non-null  object        \n",
      " 9   Region                  500000 non-null  object        \n",
      " 10  County                  500000 non-null  object        \n",
      " 11  full_name               500000 non-null  object        \n",
      "dtypes: datetime64[ns](1), float64(2), int64(2), object(7)\n",
      "memory usage: 45.8+ MB\n"
     ]
    }
   ],
   "source": [
    "df1.info()"
   ]
  },
  {
   "cell_type": "code",
   "execution_count": 20,
   "id": "860d1cc2",
   "metadata": {},
   "outputs": [
    {
     "data": {
      "text/html": [
       "<div>\n",
       "<style scoped>\n",
       "    .dataframe tbody tr th:only-of-type {\n",
       "        vertical-align: middle;\n",
       "    }\n",
       "\n",
       "    .dataframe tbody tr th {\n",
       "        vertical-align: top;\n",
       "    }\n",
       "\n",
       "    .dataframe thead th {\n",
       "        text-align: right;\n",
       "    }\n",
       "</style>\n",
       "<table border=\"1\" class=\"dataframe\">\n",
       "  <thead>\n",
       "    <tr style=\"text-align: right;\">\n",
       "      <th></th>\n",
       "      <th>Emp ID</th>\n",
       "      <th>Gender</th>\n",
       "      <th>Age in Yrs.</th>\n",
       "      <th>Date of Joining</th>\n",
       "      <th>Age in Company (Years)</th>\n",
       "      <th>Salary</th>\n",
       "      <th>Last % Hike</th>\n",
       "      <th>City</th>\n",
       "      <th>State</th>\n",
       "      <th>Region</th>\n",
       "      <th>County</th>\n",
       "      <th>full_name</th>\n",
       "    </tr>\n",
       "  </thead>\n",
       "  <tbody>\n",
       "    <tr>\n",
       "      <th>0</th>\n",
       "      <td>857211</td>\n",
       "      <td>F</td>\n",
       "      <td>24.91</td>\n",
       "      <td>2014-09-09</td>\n",
       "      <td>2.88</td>\n",
       "      <td>168991</td>\n",
       "      <td>12%</td>\n",
       "      <td>Peach Orchard</td>\n",
       "      <td>AR</td>\n",
       "      <td>South</td>\n",
       "      <td>Clay</td>\n",
       "      <td>Hermila J Suhr</td>\n",
       "    </tr>\n",
       "    <tr>\n",
       "      <th>1</th>\n",
       "      <td>514341</td>\n",
       "      <td>M</td>\n",
       "      <td>27.61</td>\n",
       "      <td>2011-08-02</td>\n",
       "      <td>5.99</td>\n",
       "      <td>53504</td>\n",
       "      <td>30%</td>\n",
       "      <td>Rocky Ford</td>\n",
       "      <td>GA</td>\n",
       "      <td>South</td>\n",
       "      <td>Screven</td>\n",
       "      <td>Antonio Q Joy</td>\n",
       "    </tr>\n",
       "    <tr>\n",
       "      <th>2</th>\n",
       "      <td>314598</td>\n",
       "      <td>M</td>\n",
       "      <td>36.87</td>\n",
       "      <td>2012-04-01</td>\n",
       "      <td>5.33</td>\n",
       "      <td>158859</td>\n",
       "      <td>3%</td>\n",
       "      <td>Antwerp</td>\n",
       "      <td>NY</td>\n",
       "      <td>Northeast</td>\n",
       "      <td>Jefferson</td>\n",
       "      <td>Sebastian J Moores</td>\n",
       "    </tr>\n",
       "    <tr>\n",
       "      <th>3</th>\n",
       "      <td>987773</td>\n",
       "      <td>M</td>\n",
       "      <td>43.19</td>\n",
       "      <td>1998-03-19</td>\n",
       "      <td>19.37</td>\n",
       "      <td>76105</td>\n",
       "      <td>2%</td>\n",
       "      <td>Milledgeville</td>\n",
       "      <td>GA</td>\n",
       "      <td>South</td>\n",
       "      <td>Milledgeville</td>\n",
       "      <td>Alec S Rittenhouse</td>\n",
       "    </tr>\n",
       "    <tr>\n",
       "      <th>4</th>\n",
       "      <td>690850</td>\n",
       "      <td>M</td>\n",
       "      <td>50.70</td>\n",
       "      <td>2010-01-04</td>\n",
       "      <td>7.57</td>\n",
       "      <td>134436</td>\n",
       "      <td>8%</td>\n",
       "      <td>Springfield</td>\n",
       "      <td>MO</td>\n",
       "      <td>Midwest</td>\n",
       "      <td>Greene</td>\n",
       "      <td>Reggie C Doughty</td>\n",
       "    </tr>\n",
       "  </tbody>\n",
       "</table>\n",
       "</div>"
      ],
      "text/plain": [
       "   Emp ID Gender  Age in Yrs. Date of Joining  Age in Company (Years)  Salary  \\\n",
       "0  857211      F        24.91      2014-09-09                    2.88  168991   \n",
       "1  514341      M        27.61      2011-08-02                    5.99   53504   \n",
       "2  314598      M        36.87      2012-04-01                    5.33  158859   \n",
       "3  987773      M        43.19      1998-03-19                   19.37   76105   \n",
       "4  690850      M        50.70      2010-01-04                    7.57  134436   \n",
       "\n",
       "  Last % Hike           City State     Region         County  \\\n",
       "0         12%  Peach Orchard    AR      South           Clay   \n",
       "1         30%     Rocky Ford    GA      South        Screven   \n",
       "2          3%        Antwerp    NY  Northeast      Jefferson   \n",
       "3          2%  Milledgeville    GA      South  Milledgeville   \n",
       "4          8%    Springfield    MO    Midwest         Greene   \n",
       "\n",
       "            full_name  \n",
       "0      Hermila J Suhr  \n",
       "1       Antonio Q Joy  \n",
       "2  Sebastian J Moores  \n",
       "3  Alec S Rittenhouse  \n",
       "4    Reggie C Doughty  "
      ]
     },
     "execution_count": 20,
     "metadata": {},
     "output_type": "execute_result"
    }
   ],
   "source": [
    "df1.head()"
   ]
  },
  {
   "cell_type": "code",
   "execution_count": 21,
   "id": "dcc6fc75",
   "metadata": {},
   "outputs": [],
   "source": [
    "hike = []\n",
    "for i in df1['Last % Hike'].values:\n",
    "    hike.append(i[:-1])"
   ]
  },
  {
   "cell_type": "code",
   "execution_count": 22,
   "id": "0777c380",
   "metadata": {},
   "outputs": [],
   "source": [
    "df1['Last % Hike'] = hike"
   ]
  },
  {
   "cell_type": "code",
   "execution_count": 23,
   "id": "4c22fb16",
   "metadata": {},
   "outputs": [],
   "source": [
    "df1['Last % Hike'] = df1['Last % Hike'].astype('int64')"
   ]
  },
  {
   "cell_type": "code",
   "execution_count": 24,
   "id": "84e8284b",
   "metadata": {},
   "outputs": [
    {
     "data": {
      "text/html": [
       "<div>\n",
       "<style scoped>\n",
       "    .dataframe tbody tr th:only-of-type {\n",
       "        vertical-align: middle;\n",
       "    }\n",
       "\n",
       "    .dataframe tbody tr th {\n",
       "        vertical-align: top;\n",
       "    }\n",
       "\n",
       "    .dataframe thead th {\n",
       "        text-align: right;\n",
       "    }\n",
       "</style>\n",
       "<table border=\"1\" class=\"dataframe\">\n",
       "  <thead>\n",
       "    <tr style=\"text-align: right;\">\n",
       "      <th></th>\n",
       "      <th>Emp ID</th>\n",
       "      <th>Gender</th>\n",
       "      <th>Age in Yrs.</th>\n",
       "      <th>Date of Joining</th>\n",
       "      <th>Age in Company (Years)</th>\n",
       "      <th>Salary</th>\n",
       "      <th>Last % Hike</th>\n",
       "      <th>City</th>\n",
       "      <th>State</th>\n",
       "      <th>Region</th>\n",
       "      <th>County</th>\n",
       "      <th>full_name</th>\n",
       "    </tr>\n",
       "  </thead>\n",
       "  <tbody>\n",
       "    <tr>\n",
       "      <th>0</th>\n",
       "      <td>857211</td>\n",
       "      <td>F</td>\n",
       "      <td>24.91</td>\n",
       "      <td>2014-09-09</td>\n",
       "      <td>2.88</td>\n",
       "      <td>168991</td>\n",
       "      <td>12</td>\n",
       "      <td>Peach Orchard</td>\n",
       "      <td>AR</td>\n",
       "      <td>South</td>\n",
       "      <td>Clay</td>\n",
       "      <td>Hermila J Suhr</td>\n",
       "    </tr>\n",
       "    <tr>\n",
       "      <th>1</th>\n",
       "      <td>514341</td>\n",
       "      <td>M</td>\n",
       "      <td>27.61</td>\n",
       "      <td>2011-08-02</td>\n",
       "      <td>5.99</td>\n",
       "      <td>53504</td>\n",
       "      <td>30</td>\n",
       "      <td>Rocky Ford</td>\n",
       "      <td>GA</td>\n",
       "      <td>South</td>\n",
       "      <td>Screven</td>\n",
       "      <td>Antonio Q Joy</td>\n",
       "    </tr>\n",
       "    <tr>\n",
       "      <th>2</th>\n",
       "      <td>314598</td>\n",
       "      <td>M</td>\n",
       "      <td>36.87</td>\n",
       "      <td>2012-04-01</td>\n",
       "      <td>5.33</td>\n",
       "      <td>158859</td>\n",
       "      <td>3</td>\n",
       "      <td>Antwerp</td>\n",
       "      <td>NY</td>\n",
       "      <td>Northeast</td>\n",
       "      <td>Jefferson</td>\n",
       "      <td>Sebastian J Moores</td>\n",
       "    </tr>\n",
       "    <tr>\n",
       "      <th>3</th>\n",
       "      <td>987773</td>\n",
       "      <td>M</td>\n",
       "      <td>43.19</td>\n",
       "      <td>1998-03-19</td>\n",
       "      <td>19.37</td>\n",
       "      <td>76105</td>\n",
       "      <td>2</td>\n",
       "      <td>Milledgeville</td>\n",
       "      <td>GA</td>\n",
       "      <td>South</td>\n",
       "      <td>Milledgeville</td>\n",
       "      <td>Alec S Rittenhouse</td>\n",
       "    </tr>\n",
       "    <tr>\n",
       "      <th>4</th>\n",
       "      <td>690850</td>\n",
       "      <td>M</td>\n",
       "      <td>50.70</td>\n",
       "      <td>2010-01-04</td>\n",
       "      <td>7.57</td>\n",
       "      <td>134436</td>\n",
       "      <td>8</td>\n",
       "      <td>Springfield</td>\n",
       "      <td>MO</td>\n",
       "      <td>Midwest</td>\n",
       "      <td>Greene</td>\n",
       "      <td>Reggie C Doughty</td>\n",
       "    </tr>\n",
       "  </tbody>\n",
       "</table>\n",
       "</div>"
      ],
      "text/plain": [
       "   Emp ID Gender  Age in Yrs. Date of Joining  Age in Company (Years)  Salary  \\\n",
       "0  857211      F        24.91      2014-09-09                    2.88  168991   \n",
       "1  514341      M        27.61      2011-08-02                    5.99   53504   \n",
       "2  314598      M        36.87      2012-04-01                    5.33  158859   \n",
       "3  987773      M        43.19      1998-03-19                   19.37   76105   \n",
       "4  690850      M        50.70      2010-01-04                    7.57  134436   \n",
       "\n",
       "   Last % Hike           City State     Region         County  \\\n",
       "0           12  Peach Orchard    AR      South           Clay   \n",
       "1           30     Rocky Ford    GA      South        Screven   \n",
       "2            3        Antwerp    NY  Northeast      Jefferson   \n",
       "3            2  Milledgeville    GA      South  Milledgeville   \n",
       "4            8    Springfield    MO    Midwest         Greene   \n",
       "\n",
       "            full_name  \n",
       "0      Hermila J Suhr  \n",
       "1       Antonio Q Joy  \n",
       "2  Sebastian J Moores  \n",
       "3  Alec S Rittenhouse  \n",
       "4    Reggie C Doughty  "
      ]
     },
     "execution_count": 24,
     "metadata": {},
     "output_type": "execute_result"
    }
   ],
   "source": [
    "df1.head()"
   ]
  },
  {
   "cell_type": "code",
   "execution_count": 25,
   "id": "ab4db933",
   "metadata": {},
   "outputs": [],
   "source": [
    "df1 = df1.rename(columns = {'Age in Company (Years)' : 'year_of_experience'})"
   ]
  },
  {
   "cell_type": "code",
   "execution_count": 26,
   "id": "1162aed2",
   "metadata": {},
   "outputs": [
    {
     "data": {
      "text/html": [
       "<div>\n",
       "<style scoped>\n",
       "    .dataframe tbody tr th:only-of-type {\n",
       "        vertical-align: middle;\n",
       "    }\n",
       "\n",
       "    .dataframe tbody tr th {\n",
       "        vertical-align: top;\n",
       "    }\n",
       "\n",
       "    .dataframe thead th {\n",
       "        text-align: right;\n",
       "    }\n",
       "</style>\n",
       "<table border=\"1\" class=\"dataframe\">\n",
       "  <thead>\n",
       "    <tr style=\"text-align: right;\">\n",
       "      <th></th>\n",
       "      <th>Emp ID</th>\n",
       "      <th>Gender</th>\n",
       "      <th>Age in Yrs.</th>\n",
       "      <th>Date of Joining</th>\n",
       "      <th>year_of_experience</th>\n",
       "      <th>Salary</th>\n",
       "      <th>Last % Hike</th>\n",
       "      <th>City</th>\n",
       "      <th>State</th>\n",
       "      <th>Region</th>\n",
       "      <th>County</th>\n",
       "      <th>full_name</th>\n",
       "    </tr>\n",
       "  </thead>\n",
       "  <tbody>\n",
       "    <tr>\n",
       "      <th>0</th>\n",
       "      <td>857211</td>\n",
       "      <td>F</td>\n",
       "      <td>24.91</td>\n",
       "      <td>2014-09-09</td>\n",
       "      <td>2.88</td>\n",
       "      <td>168991</td>\n",
       "      <td>12</td>\n",
       "      <td>Peach Orchard</td>\n",
       "      <td>AR</td>\n",
       "      <td>South</td>\n",
       "      <td>Clay</td>\n",
       "      <td>Hermila J Suhr</td>\n",
       "    </tr>\n",
       "    <tr>\n",
       "      <th>1</th>\n",
       "      <td>514341</td>\n",
       "      <td>M</td>\n",
       "      <td>27.61</td>\n",
       "      <td>2011-08-02</td>\n",
       "      <td>5.99</td>\n",
       "      <td>53504</td>\n",
       "      <td>30</td>\n",
       "      <td>Rocky Ford</td>\n",
       "      <td>GA</td>\n",
       "      <td>South</td>\n",
       "      <td>Screven</td>\n",
       "      <td>Antonio Q Joy</td>\n",
       "    </tr>\n",
       "    <tr>\n",
       "      <th>2</th>\n",
       "      <td>314598</td>\n",
       "      <td>M</td>\n",
       "      <td>36.87</td>\n",
       "      <td>2012-04-01</td>\n",
       "      <td>5.33</td>\n",
       "      <td>158859</td>\n",
       "      <td>3</td>\n",
       "      <td>Antwerp</td>\n",
       "      <td>NY</td>\n",
       "      <td>Northeast</td>\n",
       "      <td>Jefferson</td>\n",
       "      <td>Sebastian J Moores</td>\n",
       "    </tr>\n",
       "    <tr>\n",
       "      <th>3</th>\n",
       "      <td>987773</td>\n",
       "      <td>M</td>\n",
       "      <td>43.19</td>\n",
       "      <td>1998-03-19</td>\n",
       "      <td>19.37</td>\n",
       "      <td>76105</td>\n",
       "      <td>2</td>\n",
       "      <td>Milledgeville</td>\n",
       "      <td>GA</td>\n",
       "      <td>South</td>\n",
       "      <td>Milledgeville</td>\n",
       "      <td>Alec S Rittenhouse</td>\n",
       "    </tr>\n",
       "    <tr>\n",
       "      <th>4</th>\n",
       "      <td>690850</td>\n",
       "      <td>M</td>\n",
       "      <td>50.70</td>\n",
       "      <td>2010-01-04</td>\n",
       "      <td>7.57</td>\n",
       "      <td>134436</td>\n",
       "      <td>8</td>\n",
       "      <td>Springfield</td>\n",
       "      <td>MO</td>\n",
       "      <td>Midwest</td>\n",
       "      <td>Greene</td>\n",
       "      <td>Reggie C Doughty</td>\n",
       "    </tr>\n",
       "  </tbody>\n",
       "</table>\n",
       "</div>"
      ],
      "text/plain": [
       "   Emp ID Gender  Age in Yrs. Date of Joining  year_of_experience  Salary  \\\n",
       "0  857211      F        24.91      2014-09-09                2.88  168991   \n",
       "1  514341      M        27.61      2011-08-02                5.99   53504   \n",
       "2  314598      M        36.87      2012-04-01                5.33  158859   \n",
       "3  987773      M        43.19      1998-03-19               19.37   76105   \n",
       "4  690850      M        50.70      2010-01-04                7.57  134436   \n",
       "\n",
       "   Last % Hike           City State     Region         County  \\\n",
       "0           12  Peach Orchard    AR      South           Clay   \n",
       "1           30     Rocky Ford    GA      South        Screven   \n",
       "2            3        Antwerp    NY  Northeast      Jefferson   \n",
       "3            2  Milledgeville    GA      South  Milledgeville   \n",
       "4            8    Springfield    MO    Midwest         Greene   \n",
       "\n",
       "            full_name  \n",
       "0      Hermila J Suhr  \n",
       "1       Antonio Q Joy  \n",
       "2  Sebastian J Moores  \n",
       "3  Alec S Rittenhouse  \n",
       "4    Reggie C Doughty  "
      ]
     },
     "execution_count": 26,
     "metadata": {},
     "output_type": "execute_result"
    }
   ],
   "source": [
    "df1.head()"
   ]
  },
  {
   "cell_type": "code",
   "execution_count": 27,
   "id": "fce77741",
   "metadata": {},
   "outputs": [
    {
     "data": {
      "text/html": [
       "<div>\n",
       "<style scoped>\n",
       "    .dataframe tbody tr th:only-of-type {\n",
       "        vertical-align: middle;\n",
       "    }\n",
       "\n",
       "    .dataframe tbody tr th {\n",
       "        vertical-align: top;\n",
       "    }\n",
       "\n",
       "    .dataframe thead th {\n",
       "        text-align: right;\n",
       "    }\n",
       "</style>\n",
       "<table border=\"1\" class=\"dataframe\">\n",
       "  <thead>\n",
       "    <tr style=\"text-align: right;\">\n",
       "      <th></th>\n",
       "      <th>Emp ID</th>\n",
       "      <th>Gender</th>\n",
       "      <th>Age in Yrs.</th>\n",
       "      <th>Date of Joining</th>\n",
       "      <th>year_of_experience</th>\n",
       "      <th>Salary</th>\n",
       "      <th>Last % Hike</th>\n",
       "      <th>City</th>\n",
       "      <th>State</th>\n",
       "      <th>Region</th>\n",
       "      <th>County</th>\n",
       "      <th>full_name</th>\n",
       "    </tr>\n",
       "  </thead>\n",
       "  <tbody>\n",
       "    <tr>\n",
       "      <th>499995</th>\n",
       "      <td>957337</td>\n",
       "      <td>F</td>\n",
       "      <td>29.59</td>\n",
       "      <td>2009-05-22</td>\n",
       "      <td>8.19</td>\n",
       "      <td>134337</td>\n",
       "      <td>7</td>\n",
       "      <td>Oviedo</td>\n",
       "      <td>FL</td>\n",
       "      <td>South</td>\n",
       "      <td>Seminole</td>\n",
       "      <td>Doreen R Baisden</td>\n",
       "    </tr>\n",
       "    <tr>\n",
       "      <th>499996</th>\n",
       "      <td>745592</td>\n",
       "      <td>F</td>\n",
       "      <td>42.22</td>\n",
       "      <td>2007-09-08</td>\n",
       "      <td>9.89</td>\n",
       "      <td>73157</td>\n",
       "      <td>20</td>\n",
       "      <td>Piney View</td>\n",
       "      <td>WV</td>\n",
       "      <td>South</td>\n",
       "      <td>Raleigh</td>\n",
       "      <td>Kecia J Santiago</td>\n",
       "    </tr>\n",
       "    <tr>\n",
       "      <th>499997</th>\n",
       "      <td>192620</td>\n",
       "      <td>F</td>\n",
       "      <td>37.63</td>\n",
       "      <td>2002-02-28</td>\n",
       "      <td>15.42</td>\n",
       "      <td>102821</td>\n",
       "      <td>19</td>\n",
       "      <td>Brooten</td>\n",
       "      <td>MN</td>\n",
       "      <td>Midwest</td>\n",
       "      <td>Stearns</td>\n",
       "      <td>Jestine T Sugg</td>\n",
       "    </tr>\n",
       "    <tr>\n",
       "      <th>499998</th>\n",
       "      <td>249486</td>\n",
       "      <td>M</td>\n",
       "      <td>44.16</td>\n",
       "      <td>2014-02-11</td>\n",
       "      <td>3.46</td>\n",
       "      <td>185460</td>\n",
       "      <td>12</td>\n",
       "      <td>Forest Lakes</td>\n",
       "      <td>AZ</td>\n",
       "      <td>West</td>\n",
       "      <td>Coconino</td>\n",
       "      <td>Johnson N Mclelland</td>\n",
       "    </tr>\n",
       "    <tr>\n",
       "      <th>499999</th>\n",
       "      <td>829485</td>\n",
       "      <td>M</td>\n",
       "      <td>45.53</td>\n",
       "      <td>2009-11-09</td>\n",
       "      <td>7.72</td>\n",
       "      <td>132652</td>\n",
       "      <td>17</td>\n",
       "      <td>Moshannon</td>\n",
       "      <td>PA</td>\n",
       "      <td>Northeast</td>\n",
       "      <td>Centre</td>\n",
       "      <td>Rob T Swoope</td>\n",
       "    </tr>\n",
       "  </tbody>\n",
       "</table>\n",
       "</div>"
      ],
      "text/plain": [
       "        Emp ID Gender  Age in Yrs. Date of Joining  year_of_experience  \\\n",
       "499995  957337      F        29.59      2009-05-22                8.19   \n",
       "499996  745592      F        42.22      2007-09-08                9.89   \n",
       "499997  192620      F        37.63      2002-02-28               15.42   \n",
       "499998  249486      M        44.16      2014-02-11                3.46   \n",
       "499999  829485      M        45.53      2009-11-09                7.72   \n",
       "\n",
       "        Salary  Last % Hike          City State     Region    County  \\\n",
       "499995  134337            7        Oviedo    FL      South  Seminole   \n",
       "499996   73157           20    Piney View    WV      South   Raleigh   \n",
       "499997  102821           19       Brooten    MN    Midwest   Stearns   \n",
       "499998  185460           12  Forest Lakes    AZ       West  Coconino   \n",
       "499999  132652           17     Moshannon    PA  Northeast    Centre   \n",
       "\n",
       "                  full_name  \n",
       "499995     Doreen R Baisden  \n",
       "499996     Kecia J Santiago  \n",
       "499997       Jestine T Sugg  \n",
       "499998  Johnson N Mclelland  \n",
       "499999         Rob T Swoope  "
      ]
     },
     "execution_count": 27,
     "metadata": {},
     "output_type": "execute_result"
    }
   ],
   "source": [
    "df1.tail()"
   ]
  },
  {
   "cell_type": "code",
   "execution_count": 28,
   "id": "6f6da370",
   "metadata": {},
   "outputs": [
    {
     "data": {
      "text/plain": [
       "(500000, 12)"
      ]
     },
     "execution_count": 28,
     "metadata": {},
     "output_type": "execute_result"
    }
   ],
   "source": [
    "df1.shape"
   ]
  },
  {
   "cell_type": "code",
   "execution_count": 29,
   "id": "2288a20a",
   "metadata": {},
   "outputs": [
    {
     "name": "stdout",
     "output_type": "stream",
     "text": [
      "<class 'pandas.core.frame.DataFrame'>\n",
      "RangeIndex: 500000 entries, 0 to 499999\n",
      "Data columns (total 12 columns):\n",
      " #   Column              Non-Null Count   Dtype         \n",
      "---  ------              --------------   -----         \n",
      " 0   Emp ID              500000 non-null  int64         \n",
      " 1   Gender              500000 non-null  object        \n",
      " 2   Age in Yrs.         500000 non-null  float64       \n",
      " 3   Date of Joining     500000 non-null  datetime64[ns]\n",
      " 4   year_of_experience  500000 non-null  float64       \n",
      " 5   Salary              500000 non-null  int64         \n",
      " 6   Last % Hike         500000 non-null  int64         \n",
      " 7   City                500000 non-null  object        \n",
      " 8   State               500000 non-null  object        \n",
      " 9   Region              500000 non-null  object        \n",
      " 10  County              500000 non-null  object        \n",
      " 11  full_name           500000 non-null  object        \n",
      "dtypes: datetime64[ns](1), float64(2), int64(3), object(6)\n",
      "memory usage: 45.8+ MB\n"
     ]
    }
   ],
   "source": [
    "df1.info()"
   ]
  },
  {
   "cell_type": "code",
   "execution_count": 30,
   "id": "9c2d2c0e",
   "metadata": {},
   "outputs": [
    {
     "data": {
      "text/plain": [
       "Emp ID                0\n",
       "Gender                0\n",
       "Age in Yrs.           0\n",
       "Date of Joining       0\n",
       "year_of_experience    0\n",
       "Salary                0\n",
       "Last % Hike           0\n",
       "City                  0\n",
       "State                 0\n",
       "Region                0\n",
       "County                0\n",
       "full_name             0\n",
       "dtype: int64"
      ]
     },
     "execution_count": 30,
     "metadata": {},
     "output_type": "execute_result"
    }
   ],
   "source": [
    "df1.isna().sum()"
   ]
  },
  {
   "cell_type": "code",
   "execution_count": 31,
   "id": "e688dfad",
   "metadata": {},
   "outputs": [
    {
     "data": {
      "text/html": [
       "<div>\n",
       "<style scoped>\n",
       "    .dataframe tbody tr th:only-of-type {\n",
       "        vertical-align: middle;\n",
       "    }\n",
       "\n",
       "    .dataframe tbody tr th {\n",
       "        vertical-align: top;\n",
       "    }\n",
       "\n",
       "    .dataframe thead th {\n",
       "        text-align: right;\n",
       "    }\n",
       "</style>\n",
       "<table border=\"1\" class=\"dataframe\">\n",
       "  <thead>\n",
       "    <tr style=\"text-align: right;\">\n",
       "      <th></th>\n",
       "      <th>Age in Yrs.</th>\n",
       "      <th>year_of_experience</th>\n",
       "      <th>Salary</th>\n",
       "      <th>Last % Hike</th>\n",
       "    </tr>\n",
       "  </thead>\n",
       "  <tbody>\n",
       "    <tr>\n",
       "      <th>count</th>\n",
       "      <td>500000.000000</td>\n",
       "      <td>500000.000000</td>\n",
       "      <td>500000.000000</td>\n",
       "      <td>500000.000000</td>\n",
       "    </tr>\n",
       "    <tr>\n",
       "      <th>mean</th>\n",
       "      <td>40.480371</td>\n",
       "      <td>9.737245</td>\n",
       "      <td>120031.554830</td>\n",
       "      <td>15.003836</td>\n",
       "    </tr>\n",
       "    <tr>\n",
       "      <th>std</th>\n",
       "      <td>11.244833</td>\n",
       "      <td>8.581493</td>\n",
       "      <td>46209.124476</td>\n",
       "      <td>8.939589</td>\n",
       "    </tr>\n",
       "    <tr>\n",
       "      <th>min</th>\n",
       "      <td>21.000000</td>\n",
       "      <td>0.000000</td>\n",
       "      <td>40000.000000</td>\n",
       "      <td>0.000000</td>\n",
       "    </tr>\n",
       "    <tr>\n",
       "      <th>25%</th>\n",
       "      <td>30.740000</td>\n",
       "      <td>2.640000</td>\n",
       "      <td>79997.000000</td>\n",
       "      <td>7.000000</td>\n",
       "    </tr>\n",
       "    <tr>\n",
       "      <th>50%</th>\n",
       "      <td>40.490000</td>\n",
       "      <td>7.270000</td>\n",
       "      <td>120061.000000</td>\n",
       "      <td>15.000000</td>\n",
       "    </tr>\n",
       "    <tr>\n",
       "      <th>75%</th>\n",
       "      <td>50.200000</td>\n",
       "      <td>14.902500</td>\n",
       "      <td>160102.250000</td>\n",
       "      <td>23.000000</td>\n",
       "    </tr>\n",
       "    <tr>\n",
       "      <th>max</th>\n",
       "      <td>60.000000</td>\n",
       "      <td>38.950000</td>\n",
       "      <td>200000.000000</td>\n",
       "      <td>30.000000</td>\n",
       "    </tr>\n",
       "  </tbody>\n",
       "</table>\n",
       "</div>"
      ],
      "text/plain": [
       "         Age in Yrs.  year_of_experience         Salary    Last % Hike\n",
       "count  500000.000000       500000.000000  500000.000000  500000.000000\n",
       "mean       40.480371            9.737245  120031.554830      15.003836\n",
       "std        11.244833            8.581493   46209.124476       8.939589\n",
       "min        21.000000            0.000000   40000.000000       0.000000\n",
       "25%        30.740000            2.640000   79997.000000       7.000000\n",
       "50%        40.490000            7.270000  120061.000000      15.000000\n",
       "75%        50.200000           14.902500  160102.250000      23.000000\n",
       "max        60.000000           38.950000  200000.000000      30.000000"
      ]
     },
     "execution_count": 31,
     "metadata": {},
     "output_type": "execute_result"
    }
   ],
   "source": [
    "df1.drop('Emp ID', 1).describe()"
   ]
  },
  {
   "cell_type": "code",
   "execution_count": 32,
   "id": "07e2c890",
   "metadata": {},
   "outputs": [
    {
     "data": {
      "text/html": [
       "<div>\n",
       "<style scoped>\n",
       "    .dataframe tbody tr th:only-of-type {\n",
       "        vertical-align: middle;\n",
       "    }\n",
       "\n",
       "    .dataframe tbody tr th {\n",
       "        vertical-align: top;\n",
       "    }\n",
       "\n",
       "    .dataframe thead th {\n",
       "        text-align: right;\n",
       "    }\n",
       "</style>\n",
       "<table border=\"1\" class=\"dataframe\">\n",
       "  <thead>\n",
       "    <tr style=\"text-align: right;\">\n",
       "      <th></th>\n",
       "      <th>Gender</th>\n",
       "      <th>City</th>\n",
       "      <th>State</th>\n",
       "      <th>Region</th>\n",
       "      <th>County</th>\n",
       "      <th>full_name</th>\n",
       "    </tr>\n",
       "  </thead>\n",
       "  <tbody>\n",
       "    <tr>\n",
       "      <th>count</th>\n",
       "      <td>500000</td>\n",
       "      <td>500000</td>\n",
       "      <td>500000</td>\n",
       "      <td>500000</td>\n",
       "      <td>500000</td>\n",
       "      <td>500000</td>\n",
       "    </tr>\n",
       "    <tr>\n",
       "      <th>unique</th>\n",
       "      <td>2</td>\n",
       "      <td>19206</td>\n",
       "      <td>51</td>\n",
       "      <td>4</td>\n",
       "      <td>2752</td>\n",
       "      <td>499934</td>\n",
       "    </tr>\n",
       "    <tr>\n",
       "      <th>top</th>\n",
       "      <td>M</td>\n",
       "      <td>Washington</td>\n",
       "      <td>CA</td>\n",
       "      <td>South</td>\n",
       "      <td>Los Angeles</td>\n",
       "      <td>Sanford H Cearley</td>\n",
       "    </tr>\n",
       "    <tr>\n",
       "      <th>freq</th>\n",
       "      <td>250180</td>\n",
       "      <td>3831</td>\n",
       "      <td>31884</td>\n",
       "      <td>185326</td>\n",
       "      <td>6089</td>\n",
       "      <td>2</td>\n",
       "    </tr>\n",
       "  </tbody>\n",
       "</table>\n",
       "</div>"
      ],
      "text/plain": [
       "        Gender        City   State  Region       County          full_name\n",
       "count   500000      500000  500000  500000       500000             500000\n",
       "unique       2       19206      51       4         2752             499934\n",
       "top          M  Washington      CA   South  Los Angeles  Sanford H Cearley\n",
       "freq    250180        3831   31884  185326         6089                  2"
      ]
     },
     "execution_count": 32,
     "metadata": {},
     "output_type": "execute_result"
    }
   ],
   "source": [
    "df1.describe(include = 'object')"
   ]
  },
  {
   "cell_type": "code",
   "execution_count": 33,
   "id": "5afec365",
   "metadata": {},
   "outputs": [
    {
     "data": {
      "text/plain": [
       "South        185326\n",
       "Midwest      137520\n",
       "Northeast     88803\n",
       "West          88351\n",
       "Name: Region, dtype: int64"
      ]
     },
     "execution_count": 33,
     "metadata": {},
     "output_type": "execute_result"
    }
   ],
   "source": [
    "df1.Region.value_counts()"
   ]
  },
  {
   "cell_type": "code",
   "execution_count": 34,
   "id": "b3bd5084",
   "metadata": {},
   "outputs": [],
   "source": [
    "df1[['Age in Yrs.', 'year_of_experience']] = df1[['Age in Yrs.', 'year_of_experience']].round()"
   ]
  },
  {
   "cell_type": "code",
   "execution_count": 35,
   "id": "08aeb9c9",
   "metadata": {},
   "outputs": [
    {
     "data": {
      "text/html": [
       "<div>\n",
       "<style scoped>\n",
       "    .dataframe tbody tr th:only-of-type {\n",
       "        vertical-align: middle;\n",
       "    }\n",
       "\n",
       "    .dataframe tbody tr th {\n",
       "        vertical-align: top;\n",
       "    }\n",
       "\n",
       "    .dataframe thead th {\n",
       "        text-align: right;\n",
       "    }\n",
       "</style>\n",
       "<table border=\"1\" class=\"dataframe\">\n",
       "  <thead>\n",
       "    <tr style=\"text-align: right;\">\n",
       "      <th></th>\n",
       "      <th>Emp ID</th>\n",
       "      <th>Gender</th>\n",
       "      <th>Age in Yrs.</th>\n",
       "      <th>Date of Joining</th>\n",
       "      <th>year_of_experience</th>\n",
       "      <th>Salary</th>\n",
       "      <th>Last % Hike</th>\n",
       "      <th>City</th>\n",
       "      <th>State</th>\n",
       "      <th>Region</th>\n",
       "      <th>County</th>\n",
       "      <th>full_name</th>\n",
       "    </tr>\n",
       "  </thead>\n",
       "  <tbody>\n",
       "    <tr>\n",
       "      <th>0</th>\n",
       "      <td>857211</td>\n",
       "      <td>F</td>\n",
       "      <td>25.0</td>\n",
       "      <td>2014-09-09</td>\n",
       "      <td>3.0</td>\n",
       "      <td>168991</td>\n",
       "      <td>12</td>\n",
       "      <td>Peach Orchard</td>\n",
       "      <td>AR</td>\n",
       "      <td>South</td>\n",
       "      <td>Clay</td>\n",
       "      <td>Hermila J Suhr</td>\n",
       "    </tr>\n",
       "    <tr>\n",
       "      <th>1</th>\n",
       "      <td>514341</td>\n",
       "      <td>M</td>\n",
       "      <td>28.0</td>\n",
       "      <td>2011-08-02</td>\n",
       "      <td>6.0</td>\n",
       "      <td>53504</td>\n",
       "      <td>30</td>\n",
       "      <td>Rocky Ford</td>\n",
       "      <td>GA</td>\n",
       "      <td>South</td>\n",
       "      <td>Screven</td>\n",
       "      <td>Antonio Q Joy</td>\n",
       "    </tr>\n",
       "    <tr>\n",
       "      <th>2</th>\n",
       "      <td>314598</td>\n",
       "      <td>M</td>\n",
       "      <td>37.0</td>\n",
       "      <td>2012-04-01</td>\n",
       "      <td>5.0</td>\n",
       "      <td>158859</td>\n",
       "      <td>3</td>\n",
       "      <td>Antwerp</td>\n",
       "      <td>NY</td>\n",
       "      <td>Northeast</td>\n",
       "      <td>Jefferson</td>\n",
       "      <td>Sebastian J Moores</td>\n",
       "    </tr>\n",
       "    <tr>\n",
       "      <th>3</th>\n",
       "      <td>987773</td>\n",
       "      <td>M</td>\n",
       "      <td>43.0</td>\n",
       "      <td>1998-03-19</td>\n",
       "      <td>19.0</td>\n",
       "      <td>76105</td>\n",
       "      <td>2</td>\n",
       "      <td>Milledgeville</td>\n",
       "      <td>GA</td>\n",
       "      <td>South</td>\n",
       "      <td>Milledgeville</td>\n",
       "      <td>Alec S Rittenhouse</td>\n",
       "    </tr>\n",
       "    <tr>\n",
       "      <th>4</th>\n",
       "      <td>690850</td>\n",
       "      <td>M</td>\n",
       "      <td>51.0</td>\n",
       "      <td>2010-01-04</td>\n",
       "      <td>8.0</td>\n",
       "      <td>134436</td>\n",
       "      <td>8</td>\n",
       "      <td>Springfield</td>\n",
       "      <td>MO</td>\n",
       "      <td>Midwest</td>\n",
       "      <td>Greene</td>\n",
       "      <td>Reggie C Doughty</td>\n",
       "    </tr>\n",
       "  </tbody>\n",
       "</table>\n",
       "</div>"
      ],
      "text/plain": [
       "   Emp ID Gender  Age in Yrs. Date of Joining  year_of_experience  Salary  \\\n",
       "0  857211      F         25.0      2014-09-09                 3.0  168991   \n",
       "1  514341      M         28.0      2011-08-02                 6.0   53504   \n",
       "2  314598      M         37.0      2012-04-01                 5.0  158859   \n",
       "3  987773      M         43.0      1998-03-19                19.0   76105   \n",
       "4  690850      M         51.0      2010-01-04                 8.0  134436   \n",
       "\n",
       "   Last % Hike           City State     Region         County  \\\n",
       "0           12  Peach Orchard    AR      South           Clay   \n",
       "1           30     Rocky Ford    GA      South        Screven   \n",
       "2            3        Antwerp    NY  Northeast      Jefferson   \n",
       "3            2  Milledgeville    GA      South  Milledgeville   \n",
       "4            8    Springfield    MO    Midwest         Greene   \n",
       "\n",
       "            full_name  \n",
       "0      Hermila J Suhr  \n",
       "1       Antonio Q Joy  \n",
       "2  Sebastian J Moores  \n",
       "3  Alec S Rittenhouse  \n",
       "4    Reggie C Doughty  "
      ]
     },
     "execution_count": 35,
     "metadata": {},
     "output_type": "execute_result"
    }
   ],
   "source": [
    "df1.head()"
   ]
  },
  {
   "cell_type": "markdown",
   "id": "14174543",
   "metadata": {},
   "source": [
    "## Exploratory Data Analysis"
   ]
  },
  {
   "cell_type": "code",
   "execution_count": 36,
   "id": "3d23acf9",
   "metadata": {},
   "outputs": [
    {
     "data": {
      "text/plain": [
       "<AxesSubplot:xlabel='Gender', ylabel='count'>"
      ]
     },
     "execution_count": 36,
     "metadata": {},
     "output_type": "execute_result"
    },
    {
     "data": {
      "image/png": "[encoded data removed]",
      "text/plain": [
       "<Figure size 432x288 with 1 Axes>"
      ]
     },
     "metadata": {
      "needs_background": "light"
     },
     "output_type": "display_data"
    }
   ],
   "source": [
    "sns.countplot('Gender', data = df1)"
   ]
  },
  {
   "cell_type": "code",
   "execution_count": 37,
   "id": "fd340ce8",
   "metadata": {},
   "outputs": [
    {
     "data": {
      "text/plain": [
       "M    250180\n",
       "F    249820\n",
       "Name: Gender, dtype: int64"
      ]
     },
     "execution_count": 37,
     "metadata": {},
     "output_type": "execute_result"
    }
   ],
   "source": [
    "df1.Gender.value_counts()"
   ]
  },
  {
   "cell_type": "code",
   "execution_count": 38,
   "id": "b96f0e02",
   "metadata": {},
   "outputs": [
    {
     "data": {
      "text/plain": [
       "<AxesSubplot:xlabel='Gender', ylabel='Salary'>"
      ]
     },
     "execution_count": 38,
     "metadata": {},
     "output_type": "execute_result"
    },
    {
     "data": {
      "image/png": "[encoded data removed]",
      "text/plain": [
       "<Figure size 432x288 with 1 Axes>"
      ]
     },
     "metadata": {
      "needs_background": "light"
     },
     "output_type": "display_data"
    }
   ],
   "source": [
    "sns.boxplot(y = 'Salary', x = 'Gender', data = df1)"
   ]
  },
  {
   "cell_type": "code",
   "execution_count": 39,
   "id": "ad24321a",
   "metadata": {},
   "outputs": [
    {
     "data": {
      "text/html": [
       "<div>\n",
       "<style scoped>\n",
       "    .dataframe tbody tr th:only-of-type {\n",
       "        vertical-align: middle;\n",
       "    }\n",
       "\n",
       "    .dataframe tbody tr th {\n",
       "        vertical-align: top;\n",
       "    }\n",
       "\n",
       "    .dataframe thead th {\n",
       "        text-align: right;\n",
       "    }\n",
       "</style>\n",
       "<table border=\"1\" class=\"dataframe\">\n",
       "  <thead>\n",
       "    <tr style=\"text-align: right;\">\n",
       "      <th></th>\n",
       "      <th>count</th>\n",
       "      <th>mean</th>\n",
       "      <th>std</th>\n",
       "      <th>min</th>\n",
       "      <th>25%</th>\n",
       "      <th>50%</th>\n",
       "      <th>75%</th>\n",
       "      <th>max</th>\n",
       "    </tr>\n",
       "    <tr>\n",
       "      <th>Gender</th>\n",
       "      <th></th>\n",
       "      <th></th>\n",
       "      <th></th>\n",
       "      <th></th>\n",
       "      <th></th>\n",
       "      <th></th>\n",
       "      <th></th>\n",
       "      <th></th>\n",
       "    </tr>\n",
       "  </thead>\n",
       "  <tbody>\n",
       "    <tr>\n",
       "      <th>F</th>\n",
       "      <td>249820.0</td>\n",
       "      <td>119990.669130</td>\n",
       "      <td>46164.590082</td>\n",
       "      <td>40001.0</td>\n",
       "      <td>80000.75</td>\n",
       "      <td>119953.0</td>\n",
       "      <td>160037.5</td>\n",
       "      <td>200000.0</td>\n",
       "    </tr>\n",
       "    <tr>\n",
       "      <th>M</th>\n",
       "      <td>250180.0</td>\n",
       "      <td>120072.381697</td>\n",
       "      <td>46253.608200</td>\n",
       "      <td>40000.0</td>\n",
       "      <td>79990.75</td>\n",
       "      <td>120170.0</td>\n",
       "      <td>160170.0</td>\n",
       "      <td>199999.0</td>\n",
       "    </tr>\n",
       "  </tbody>\n",
       "</table>\n",
       "</div>"
      ],
      "text/plain": [
       "           count           mean           std      min       25%       50%  \\\n",
       "Gender                                                                       \n",
       "F       249820.0  119990.669130  46164.590082  40001.0  80000.75  119953.0   \n",
       "M       250180.0  120072.381697  46253.608200  40000.0  79990.75  120170.0   \n",
       "\n",
       "             75%       max  \n",
       "Gender                      \n",
       "F       160037.5  200000.0  \n",
       "M       160170.0  199999.0  "
      ]
     },
     "execution_count": 39,
     "metadata": {},
     "output_type": "execute_result"
    }
   ],
   "source": [
    "df1.groupby('Gender')['Salary'].describe()"
   ]
  },
  {
   "cell_type": "markdown",
   "id": "57b955ee",
   "metadata": {},
   "source": [
    "* The distribution of Salary of Male and Female employees are almost equivalent."
   ]
  },
  {
   "cell_type": "code",
   "execution_count": 40,
   "id": "08784ccf",
   "metadata": {},
   "outputs": [
    {
     "data": {
      "text/plain": [
       "[]"
      ]
     },
     "execution_count": 40,
     "metadata": {},
     "output_type": "execute_result"
    },
    {
     "data": {
      "image/png": "[encoded data removed]",
      "text/plain": [
       "<Figure size 432x288 with 1 Axes>"
      ]
     },
     "metadata": {
      "needs_background": "light"
     },
     "output_type": "display_data"
    }
   ],
   "source": [
    "exp = df1['year_of_experience']\n",
    "salary = df1['Salary']\n",
    "\n",
    "plt.scatter(exp, salary)\n",
    "plt.title('Experience v\\s Salary')\n",
    "plt.xlabel('Experience (years)')\n",
    "plt.ylabel('Salary')\n",
    "plt.plot()"
   ]
  },
  {
   "cell_type": "code",
   "execution_count": 41,
   "id": "26c96d25",
   "metadata": {},
   "outputs": [
    {
     "data": {
      "text/plain": [
       "<AxesSubplot:xlabel='year_of_experience'>"
      ]
     },
     "execution_count": 41,
     "metadata": {},
     "output_type": "execute_result"
    },
    {
     "data": {
      "image/png": "[encoded data removed]",
      "text/plain": [
       "<Figure size 432x288 with 1 Axes>"
      ]
     },
     "metadata": {
      "needs_background": "light"
     },
     "output_type": "display_data"
    }
   ],
   "source": [
    "df1.groupby('year_of_experience')['Salary'].mean().plot()"
   ]
  },
  {
   "cell_type": "code",
   "execution_count": 42,
   "id": "8c5d0b45",
   "metadata": {},
   "outputs": [
    {
     "data": {
      "text/plain": [
       "count    500000.000000\n",
       "mean          9.730856\n",
       "std           8.593862\n",
       "min           0.000000\n",
       "25%           3.000000\n",
       "50%           7.000000\n",
       "75%          15.000000\n",
       "max          39.000000\n",
       "Name: year_of_experience, dtype: float64"
      ]
     },
     "execution_count": 42,
     "metadata": {},
     "output_type": "execute_result"
    }
   ],
   "source": [
    "df1['year_of_experience'].describe()"
   ]
  },
  {
   "cell_type": "code",
   "execution_count": 43,
   "id": "6ad19173",
   "metadata": {},
   "outputs": [],
   "source": [
    "numeric = ['Age in Yrs.', 'year_of_experience', 'Last % Hike']"
   ]
  },
  {
   "cell_type": "code",
   "execution_count": 44,
   "id": "a698bfec",
   "metadata": {},
   "outputs": [
    {
     "data": {
      "image/png": "[encoded data removed]",
      "text/plain": [
       "<Figure size 432x288 with 1 Axes>"
      ]
     },
     "metadata": {
      "needs_background": "light"
     },
     "output_type": "display_data"
    },
    {
     "data": {
      "image/png": "[encoded data removed]",
      "text/plain": [
       "<Figure size 432x288 with 1 Axes>"
      ]
     },
     "metadata": {
      "needs_background": "light"
     },
     "output_type": "display_data"
    },
    {
     "data": {
      "image/png": "[encoded data removed]",
      "text/plain": [
       "<Figure size 432x288 with 1 Axes>"
      ]
     },
     "metadata": {
      "needs_background": "light"
     },
     "output_type": "display_data"
    }
   ],
   "source": [
    "for x in numeric:\n",
    "    df1[x].hist()\n",
    "    plt.title(x)\n",
    "    plt.show()"
   ]
  },
  {
   "cell_type": "code",
   "execution_count": 45,
   "id": "e038e5ae",
   "metadata": {},
   "outputs": [
    {
     "data": {
      "image/png": "[encoded data removed]",
      "text/plain": [
       "<Figure size 432x288 with 1 Axes>"
      ]
     },
     "metadata": {
      "needs_background": "light"
     },
     "output_type": "display_data"
    },
    {
     "data": {
      "image/png": "[encoded data removed]",
      "text/plain": [
       "<Figure size 432x288 with 1 Axes>"
      ]
     },
     "metadata": {
      "needs_background": "light"
     },
     "output_type": "display_data"
    },
    {
     "data": {
      "image/png": "[encoded data removed]",
      "text/plain": [
       "<Figure size 432x288 with 1 Axes>"
      ]
     },
     "metadata": {
      "needs_background": "light"
     },
     "output_type": "display_data"
    },
    {
     "data": {
      "image/png": "[encoded data removed]",
      "text/plain": [
       "<Figure size 432x288 with 1 Axes>"
      ]
     },
     "metadata": {
      "needs_background": "light"
     },
     "output_type": "display_data"
    }
   ],
   "source": [
    "numeric.append('Salary')\n",
    "\n",
    "for x in numeric:\n",
    "    sns.distplot(df1[x])\n",
    "    plt.show()"
   ]
  },
  {
   "cell_type": "code",
   "execution_count": 46,
   "id": "fac5937d",
   "metadata": {},
   "outputs": [
    {
     "data": {
      "image/png": "[encoded data removed]",
      "text/plain": [
       "<Figure size 432x288 with 1 Axes>"
      ]
     },
     "metadata": {
      "needs_background": "light"
     },
     "output_type": "display_data"
    },
    {
     "data": {
      "image/png": "[encoded data removed]",
      "text/plain": [
       "<Figure size 432x288 with 1 Axes>"
      ]
     },
     "metadata": {
      "needs_background": "light"
     },
     "output_type": "display_data"
    },
    {
     "data": {
      "image/png": "[encoded data removed]",
      "text/plain": [
       "<Figure size 432x288 with 1 Axes>"
      ]
     },
     "metadata": {
      "needs_background": "light"
     },
     "output_type": "display_data"
    },
    {
     "data": {
      "image/png": "[encoded data removed]",
      "text/plain": [
       "<Figure size 432x288 with 1 Axes>"
      ]
     },
     "metadata": {
      "needs_background": "light"
     },
     "output_type": "display_data"
    }
   ],
   "source": [
    "for x in numeric:\n",
    "    sns.boxplot(df1[x])\n",
    "    plt.show()"
   ]
  },
  {
   "cell_type": "markdown",
   "id": "32ba882a",
   "metadata": {},
   "source": [
    "# Z Test"
   ]
  },
  {
   "cell_type": "code",
   "execution_count": 47,
   "id": "9006754a",
   "metadata": {},
   "outputs": [
    {
     "data": {
      "text/plain": [
       "(0.6251953591783534, 0.531842847411238)"
      ]
     },
     "execution_count": 47,
     "metadata": {},
     "output_type": "execute_result"
    }
   ],
   "source": [
    "male = df1['Salary'][df1['Gender'] == 'M'].values\n",
    "female = df1['Salary'][df1['Gender'] == 'F'].values\n",
    "\n",
    "from statsmodels.stats.weightstats import ztest\n",
    "\n",
    "ztest(male, female, value = 0)"
   ]
  },
  {
   "cell_type": "markdown",
   "id": "53ed2daf",
   "metadata": {},
   "source": [
    "# One way ANOVA"
   ]
  },
  {
   "cell_type": "code",
   "execution_count": 48,
   "id": "71413f4a",
   "metadata": {},
   "outputs": [
    {
     "data": {
      "text/plain": [
       "South        185326\n",
       "Midwest      137520\n",
       "Northeast     88803\n",
       "West          88351\n",
       "Name: Region, dtype: int64"
      ]
     },
     "execution_count": 48,
     "metadata": {},
     "output_type": "execute_result"
    }
   ],
   "source": [
    "df1.Region.value_counts()"
   ]
  },
  {
   "cell_type": "code",
   "execution_count": 49,
   "id": "af5ecaf6",
   "metadata": {},
   "outputs": [],
   "source": [
    "South = df1[df1['Region'] == 'South']['Salary'] \n",
    "Midwest = df1[df1['Region'] == 'Midwest']['Salary']\n",
    "Northeast = df1[df1['Region'] == 'Northeast']['Salary']\n",
    "West = df1[df1['Region'] == 'West']['Salary']"
   ]
  },
  {
   "cell_type": "code",
   "execution_count": 50,
   "id": "302ea8a1",
   "metadata": {},
   "outputs": [],
   "source": [
    "from scipy import stats"
   ]
  },
  {
   "cell_type": "code",
   "execution_count": 51,
   "id": "f57d5b8e",
   "metadata": {},
   "outputs": [
    {
     "data": {
      "text/plain": [
       "F_onewayResult(statistic=0.30580600468583524, pvalue=0.8212225182005618)"
      ]
     },
     "execution_count": 51,
     "metadata": {},
     "output_type": "execute_result"
    }
   ],
   "source": [
    "stats.f_oneway(South, Midwest, Northeast, West)"
   ]
  },
  {
   "cell_type": "markdown",
   "id": "f6a68d1d",
   "metadata": {},
   "source": [
    "# Correlation"
   ]
  },
  {
   "cell_type": "code",
   "execution_count": 52,
   "id": "fe58626f",
   "metadata": {},
   "outputs": [
    {
     "data": {
      "text/html": [
       "<div>\n",
       "<style scoped>\n",
       "    .dataframe tbody tr th:only-of-type {\n",
       "        vertical-align: middle;\n",
       "    }\n",
       "\n",
       "    .dataframe tbody tr th {\n",
       "        vertical-align: top;\n",
       "    }\n",
       "\n",
       "    .dataframe thead th {\n",
       "        text-align: right;\n",
       "    }\n",
       "</style>\n",
       "<table border=\"1\" class=\"dataframe\">\n",
       "  <thead>\n",
       "    <tr style=\"text-align: right;\">\n",
       "      <th></th>\n",
       "      <th>Age in Yrs.</th>\n",
       "      <th>year_of_experience</th>\n",
       "      <th>Salary</th>\n",
       "      <th>Last % Hike</th>\n",
       "    </tr>\n",
       "  </thead>\n",
       "  <tbody>\n",
       "    <tr>\n",
       "      <th>Age in Yrs.</th>\n",
       "      <td>1.000000</td>\n",
       "      <td>0.653275</td>\n",
       "      <td>0.000889</td>\n",
       "      <td>-0.002396</td>\n",
       "    </tr>\n",
       "    <tr>\n",
       "      <th>year_of_experience</th>\n",
       "      <td>0.653275</td>\n",
       "      <td>1.000000</td>\n",
       "      <td>0.000771</td>\n",
       "      <td>-0.000817</td>\n",
       "    </tr>\n",
       "    <tr>\n",
       "      <th>Salary</th>\n",
       "      <td>0.000889</td>\n",
       "      <td>0.000771</td>\n",
       "      <td>1.000000</td>\n",
       "      <td>0.002482</td>\n",
       "    </tr>\n",
       "    <tr>\n",
       "      <th>Last % Hike</th>\n",
       "      <td>-0.002396</td>\n",
       "      <td>-0.000817</td>\n",
       "      <td>0.002482</td>\n",
       "      <td>1.000000</td>\n",
       "    </tr>\n",
       "  </tbody>\n",
       "</table>\n",
       "</div>"
      ],
      "text/plain": [
       "                    Age in Yrs.  year_of_experience    Salary  Last % Hike\n",
       "Age in Yrs.            1.000000            0.653275  0.000889    -0.002396\n",
       "year_of_experience     0.653275            1.000000  0.000771    -0.000817\n",
       "Salary                 0.000889            0.000771  1.000000     0.002482\n",
       "Last % Hike           -0.002396           -0.000817  0.002482     1.000000"
      ]
     },
     "execution_count": 52,
     "metadata": {},
     "output_type": "execute_result"
    }
   ],
   "source": [
    "df1.drop('Emp ID', 1).corr()"
   ]
  },
  {
   "cell_type": "code",
   "execution_count": 53,
   "id": "2252cfed",
   "metadata": {},
   "outputs": [
    {
     "data": {
      "text/plain": [
       "<AxesSubplot:>"
      ]
     },
     "execution_count": 53,
     "metadata": {},
     "output_type": "execute_result"
    },
    {
     "data": {
      "image/png": "[encoded data removed]",
      "text/plain": [
       "<Figure size 432x288 with 2 Axes>"
      ]
     },
     "metadata": {
      "needs_background": "light"
     },
     "output_type": "display_data"
    }
   ],
   "source": [
    "sns.heatmap(df1[numeric].corr(method = 'spearman'), annot = True)"
   ]
  },
  {
   "cell_type": "code",
   "execution_count": 54,
   "id": "015bfbc0",
   "metadata": {},
   "outputs": [
    {
     "data": {
      "text/plain": [
       "['Age in Yrs.', 'year_of_experience', 'Last % Hike', 'Salary']"
      ]
     },
     "execution_count": 54,
     "metadata": {},
     "output_type": "execute_result"
    }
   ],
   "source": [
    "numeric"
   ]
  },
  {
   "cell_type": "code",
   "execution_count": 55,
   "id": "f813153a",
   "metadata": {},
   "outputs": [
    {
     "data": {
      "text/plain": [
       "array([[126.61508551,  63.17238545],\n",
       "       [ 63.17238545,  73.85446522]])"
      ]
     },
     "execution_count": 55,
     "metadata": {},
     "output_type": "execute_result"
    }
   ],
   "source": [
    "np.cov(df1['Age in Yrs.'], df1['year_of_experience'])"
   ]
  },
  {
   "cell_type": "code",
   "execution_count": 56,
   "id": "28a6a817",
   "metadata": {},
   "outputs": [
    {
     "data": {
      "text/html": [
       "<div>\n",
       "<style scoped>\n",
       "    .dataframe tbody tr th:only-of-type {\n",
       "        vertical-align: middle;\n",
       "    }\n",
       "\n",
       "    .dataframe tbody tr th {\n",
       "        vertical-align: top;\n",
       "    }\n",
       "\n",
       "    .dataframe thead th {\n",
       "        text-align: right;\n",
       "    }\n",
       "</style>\n",
       "<table border=\"1\" class=\"dataframe\">\n",
       "  <thead>\n",
       "    <tr style=\"text-align: right;\">\n",
       "      <th></th>\n",
       "      <th>Age in Yrs.</th>\n",
       "      <th>year_of_experience</th>\n",
       "      <th>Last % Hike</th>\n",
       "      <th>Salary</th>\n",
       "    </tr>\n",
       "  </thead>\n",
       "  <tbody>\n",
       "    <tr>\n",
       "      <th>Age in Yrs.</th>\n",
       "      <td>126.615086</td>\n",
       "      <td>63.172385</td>\n",
       "      <td>-0.241023</td>\n",
       "      <td>4.620554e+02</td>\n",
       "    </tr>\n",
       "    <tr>\n",
       "      <th>year_of_experience</th>\n",
       "      <td>63.172385</td>\n",
       "      <td>73.854465</td>\n",
       "      <td>-0.062776</td>\n",
       "      <td>3.060926e+02</td>\n",
       "    </tr>\n",
       "    <tr>\n",
       "      <th>Last % Hike</th>\n",
       "      <td>-0.241023</td>\n",
       "      <td>-0.062776</td>\n",
       "      <td>79.916257</td>\n",
       "      <td>1.025087e+03</td>\n",
       "    </tr>\n",
       "    <tr>\n",
       "      <th>Salary</th>\n",
       "      <td>462.055386</td>\n",
       "      <td>306.092647</td>\n",
       "      <td>1025.087300</td>\n",
       "      <td>2.135283e+09</td>\n",
       "    </tr>\n",
       "  </tbody>\n",
       "</table>\n",
       "</div>"
      ],
      "text/plain": [
       "                    Age in Yrs.  year_of_experience  Last % Hike        Salary\n",
       "Age in Yrs.          126.615086           63.172385    -0.241023  4.620554e+02\n",
       "year_of_experience    63.172385           73.854465    -0.062776  3.060926e+02\n",
       "Last % Hike           -0.241023           -0.062776    79.916257  1.025087e+03\n",
       "Salary               462.055386          306.092647  1025.087300  2.135283e+09"
      ]
     },
     "execution_count": 56,
     "metadata": {},
     "output_type": "execute_result"
    }
   ],
   "source": [
    "df1[numeric].cov()"
   ]
  },
  {
   "cell_type": "markdown",
   "id": "dc093c0d",
   "metadata": {},
   "source": [
    "# Handling Outliers\n",
    "### Power Transformation"
   ]
  },
  {
   "cell_type": "code",
   "execution_count": 57,
   "id": "2001c74c",
   "metadata": {},
   "outputs": [
    {
     "data": {
      "image/png": "[encoded data removed]",
      "text/plain": [
       "<Figure size 432x288 with 2 Axes>"
      ]
     },
     "metadata": {
      "needs_background": "light"
     },
     "output_type": "display_data"
    }
   ],
   "source": [
    "exp = df1[['year_of_experience']]\n",
    "\n",
    "from sklearn.preprocessing import PowerTransformer \n",
    "pt = PowerTransformer(method = 'yeo-johnson', standardize = True, copy = True)\n",
    "transformed = pt.fit_transform(exp)\n",
    "\n",
    "fig, ax = plt.subplots(1, 2)\n",
    "\n",
    "plot1 = sns.distplot(exp, hist = False, kde = True, kde_kws = {'shade' : True, 'linewidth' : 2},\n",
    "            label = 'Non-normal', color = 'green', ax = ax[0])\n",
    "ax[0].legend()\n",
    "plot2 = sns.distplot(transformed, hist = False, kde = True, kde_kws = {'shade' : True, 'linewidth' : 2},\n",
    "            label = 'normal', color = 'green', ax = ax[1])\n",
    "\n",
    "ax[1].legend()\n",
    "\n",
    "plt.show()"
   ]
  },
  {
   "cell_type": "markdown",
   "id": "273bb5f4",
   "metadata": {},
   "source": [
    "# Checking Imbalance"
   ]
  },
  {
   "cell_type": "code",
   "execution_count": 58,
   "id": "e43289c4",
   "metadata": {},
   "outputs": [
    {
     "data": {
      "text/html": [
       "<div>\n",
       "<style scoped>\n",
       "    .dataframe tbody tr th:only-of-type {\n",
       "        vertical-align: middle;\n",
       "    }\n",
       "\n",
       "    .dataframe tbody tr th {\n",
       "        vertical-align: top;\n",
       "    }\n",
       "\n",
       "    .dataframe thead th {\n",
       "        text-align: right;\n",
       "    }\n",
       "</style>\n",
       "<table border=\"1\" class=\"dataframe\">\n",
       "  <thead>\n",
       "    <tr style=\"text-align: right;\">\n",
       "      <th></th>\n",
       "      <th>Gender</th>\n",
       "      <th>City</th>\n",
       "      <th>State</th>\n",
       "      <th>Region</th>\n",
       "      <th>County</th>\n",
       "      <th>full_name</th>\n",
       "    </tr>\n",
       "  </thead>\n",
       "  <tbody>\n",
       "    <tr>\n",
       "      <th>count</th>\n",
       "      <td>500000</td>\n",
       "      <td>500000</td>\n",
       "      <td>500000</td>\n",
       "      <td>500000</td>\n",
       "      <td>500000</td>\n",
       "      <td>500000</td>\n",
       "    </tr>\n",
       "    <tr>\n",
       "      <th>unique</th>\n",
       "      <td>2</td>\n",
       "      <td>19206</td>\n",
       "      <td>51</td>\n",
       "      <td>4</td>\n",
       "      <td>2752</td>\n",
       "      <td>499934</td>\n",
       "    </tr>\n",
       "    <tr>\n",
       "      <th>top</th>\n",
       "      <td>M</td>\n",
       "      <td>Washington</td>\n",
       "      <td>CA</td>\n",
       "      <td>South</td>\n",
       "      <td>Los Angeles</td>\n",
       "      <td>Sanford H Cearley</td>\n",
       "    </tr>\n",
       "    <tr>\n",
       "      <th>freq</th>\n",
       "      <td>250180</td>\n",
       "      <td>3831</td>\n",
       "      <td>31884</td>\n",
       "      <td>185326</td>\n",
       "      <td>6089</td>\n",
       "      <td>2</td>\n",
       "    </tr>\n",
       "  </tbody>\n",
       "</table>\n",
       "</div>"
      ],
      "text/plain": [
       "        Gender        City   State  Region       County          full_name\n",
       "count   500000      500000  500000  500000       500000             500000\n",
       "unique       2       19206      51       4         2752             499934\n",
       "top          M  Washington      CA   South  Los Angeles  Sanford H Cearley\n",
       "freq    250180        3831   31884  185326         6089                  2"
      ]
     },
     "execution_count": 58,
     "metadata": {},
     "output_type": "execute_result"
    }
   ],
   "source": [
    "df1.describe(include = 'object')"
   ]
  },
  {
   "cell_type": "code",
   "execution_count": 59,
   "id": "e06cd209",
   "metadata": {},
   "outputs": [
    {
     "data": {
      "text/plain": [
       "M    250180\n",
       "F    249820\n",
       "Name: Gender, dtype: int64"
      ]
     },
     "execution_count": 59,
     "metadata": {},
     "output_type": "execute_result"
    }
   ],
   "source": [
    "df1['Gender'].value_counts()"
   ]
  },
  {
   "cell_type": "code",
   "execution_count": 60,
   "id": "c1d5b1a1",
   "metadata": {},
   "outputs": [
    {
     "data": {
      "text/plain": [
       "South        185326\n",
       "Midwest      137520\n",
       "Northeast     88803\n",
       "West          88351\n",
       "Name: Region, dtype: int64"
      ]
     },
     "execution_count": 60,
     "metadata": {},
     "output_type": "execute_result"
    }
   ],
   "source": [
    "df1['Region'].value_counts()"
   ]
  },
  {
   "cell_type": "markdown",
   "id": "21ff0de4",
   "metadata": {},
   "source": [
    "# Preparing data for Modeling"
   ]
  },
  {
   "cell_type": "code",
   "execution_count": 61,
   "id": "b0bd8041",
   "metadata": {},
   "outputs": [
    {
     "data": {
      "text/html": [
       "<div>\n",
       "<style scoped>\n",
       "    .dataframe tbody tr th:only-of-type {\n",
       "        vertical-align: middle;\n",
       "    }\n",
       "\n",
       "    .dataframe tbody tr th {\n",
       "        vertical-align: top;\n",
       "    }\n",
       "\n",
       "    .dataframe thead th {\n",
       "        text-align: right;\n",
       "    }\n",
       "</style>\n",
       "<table border=\"1\" class=\"dataframe\">\n",
       "  <thead>\n",
       "    <tr style=\"text-align: right;\">\n",
       "      <th></th>\n",
       "      <th>Age in Yrs.</th>\n",
       "      <th>year_of_experience</th>\n",
       "      <th>Salary</th>\n",
       "      <th>Gender</th>\n",
       "      <th>Region</th>\n",
       "    </tr>\n",
       "  </thead>\n",
       "  <tbody>\n",
       "    <tr>\n",
       "      <th>0</th>\n",
       "      <td>25.0</td>\n",
       "      <td>3.0</td>\n",
       "      <td>168991</td>\n",
       "      <td>F</td>\n",
       "      <td>South</td>\n",
       "    </tr>\n",
       "    <tr>\n",
       "      <th>1</th>\n",
       "      <td>28.0</td>\n",
       "      <td>6.0</td>\n",
       "      <td>53504</td>\n",
       "      <td>M</td>\n",
       "      <td>South</td>\n",
       "    </tr>\n",
       "    <tr>\n",
       "      <th>2</th>\n",
       "      <td>37.0</td>\n",
       "      <td>5.0</td>\n",
       "      <td>158859</td>\n",
       "      <td>M</td>\n",
       "      <td>Northeast</td>\n",
       "    </tr>\n",
       "    <tr>\n",
       "      <th>3</th>\n",
       "      <td>43.0</td>\n",
       "      <td>19.0</td>\n",
       "      <td>76105</td>\n",
       "      <td>M</td>\n",
       "      <td>South</td>\n",
       "    </tr>\n",
       "    <tr>\n",
       "      <th>4</th>\n",
       "      <td>51.0</td>\n",
       "      <td>8.0</td>\n",
       "      <td>134436</td>\n",
       "      <td>M</td>\n",
       "      <td>Midwest</td>\n",
       "    </tr>\n",
       "  </tbody>\n",
       "</table>\n",
       "</div>"
      ],
      "text/plain": [
       "   Age in Yrs.  year_of_experience  Salary Gender     Region\n",
       "0         25.0                 3.0  168991      F      South\n",
       "1         28.0                 6.0   53504      M      South\n",
       "2         37.0                 5.0  158859      M  Northeast\n",
       "3         43.0                19.0   76105      M      South\n",
       "4         51.0                 8.0  134436      M    Midwest"
      ]
     },
     "execution_count": 61,
     "metadata": {},
     "output_type": "execute_result"
    }
   ],
   "source": [
    "data = df1[['Age in Yrs.', 'year_of_experience', 'Salary','Gender', 'Region']]\n",
    "data.head()"
   ]
  },
  {
   "cell_type": "code",
   "execution_count": 62,
   "id": "454ac4e0",
   "metadata": {},
   "outputs": [
    {
     "data": {
      "text/html": [
       "<div>\n",
       "<style scoped>\n",
       "    .dataframe tbody tr th:only-of-type {\n",
       "        vertical-align: middle;\n",
       "    }\n",
       "\n",
       "    .dataframe tbody tr th {\n",
       "        vertical-align: top;\n",
       "    }\n",
       "\n",
       "    .dataframe thead th {\n",
       "        text-align: right;\n",
       "    }\n",
       "</style>\n",
       "<table border=\"1\" class=\"dataframe\">\n",
       "  <thead>\n",
       "    <tr style=\"text-align: right;\">\n",
       "      <th></th>\n",
       "      <th>Age in Yrs.</th>\n",
       "      <th>year_of_experience</th>\n",
       "      <th>Salary</th>\n",
       "      <th>Gender_M</th>\n",
       "      <th>Region_Northeast</th>\n",
       "      <th>Region_South</th>\n",
       "      <th>Region_West</th>\n",
       "    </tr>\n",
       "  </thead>\n",
       "  <tbody>\n",
       "    <tr>\n",
       "      <th>0</th>\n",
       "      <td>25.0</td>\n",
       "      <td>3.0</td>\n",
       "      <td>168991</td>\n",
       "      <td>0</td>\n",
       "      <td>0</td>\n",
       "      <td>1</td>\n",
       "      <td>0</td>\n",
       "    </tr>\n",
       "    <tr>\n",
       "      <th>1</th>\n",
       "      <td>28.0</td>\n",
       "      <td>6.0</td>\n",
       "      <td>53504</td>\n",
       "      <td>1</td>\n",
       "      <td>0</td>\n",
       "      <td>1</td>\n",
       "      <td>0</td>\n",
       "    </tr>\n",
       "    <tr>\n",
       "      <th>2</th>\n",
       "      <td>37.0</td>\n",
       "      <td>5.0</td>\n",
       "      <td>158859</td>\n",
       "      <td>1</td>\n",
       "      <td>1</td>\n",
       "      <td>0</td>\n",
       "      <td>0</td>\n",
       "    </tr>\n",
       "    <tr>\n",
       "      <th>3</th>\n",
       "      <td>43.0</td>\n",
       "      <td>19.0</td>\n",
       "      <td>76105</td>\n",
       "      <td>1</td>\n",
       "      <td>0</td>\n",
       "      <td>1</td>\n",
       "      <td>0</td>\n",
       "    </tr>\n",
       "    <tr>\n",
       "      <th>4</th>\n",
       "      <td>51.0</td>\n",
       "      <td>8.0</td>\n",
       "      <td>134436</td>\n",
       "      <td>1</td>\n",
       "      <td>0</td>\n",
       "      <td>0</td>\n",
       "      <td>0</td>\n",
       "    </tr>\n",
       "  </tbody>\n",
       "</table>\n",
       "</div>"
      ],
      "text/plain": [
       "   Age in Yrs.  year_of_experience  Salary  Gender_M  Region_Northeast  \\\n",
       "0         25.0                 3.0  168991         0                 0   \n",
       "1         28.0                 6.0   53504         1                 0   \n",
       "2         37.0                 5.0  158859         1                 1   \n",
       "3         43.0                19.0   76105         1                 0   \n",
       "4         51.0                 8.0  134436         1                 0   \n",
       "\n",
       "   Region_South  Region_West  \n",
       "0             1            0  \n",
       "1             1            0  \n",
       "2             0            0  \n",
       "3             1            0  \n",
       "4             0            0  "
      ]
     },
     "execution_count": 62,
     "metadata": {},
     "output_type": "execute_result"
    }
   ],
   "source": [
    "data_encoded = pd.get_dummies(data, drop_first = True)\n",
    "data_encoded.head()"
   ]
  },
  {
   "cell_type": "code",
   "execution_count": 63,
   "id": "673d592f",
   "metadata": {},
   "outputs": [],
   "source": [
    "x = data_encoded.drop('Salary', 1)\n",
    "y = data_encoded['Salary']\n",
    "\n",
    "from sklearn.model_selection import train_test_split\n",
    "\n",
    "x_train, x_test, y_train, y_test = train_test_split(x, y, test_size = 0.25, random_state = 42)"
   ]
  },
  {
   "cell_type": "markdown",
   "id": "1ea26889",
   "metadata": {},
   "source": [
    "# Linear Regression"
   ]
  },
  {
   "cell_type": "code",
   "execution_count": 64,
   "id": "adcc4010",
   "metadata": {},
   "outputs": [
    {
     "name": "stdout",
     "output_type": "stream",
     "text": [
      "Time taken to run : 0.22378969192504883 seconds\n"
     ]
    }
   ],
   "source": [
    "from time import time\n",
    "start = time()\n",
    "from sklearn.linear_model import LinearRegression\n",
    "ln_model = LinearRegression()\n",
    "ln_model.fit(x_train, y_train)\n",
    "print(f'Time taken to run : {time() - start} seconds')"
   ]
  },
  {
   "cell_type": "code",
   "execution_count": 65,
   "id": "28a57b26",
   "metadata": {},
   "outputs": [
    {
     "name": "stdout",
     "output_type": "stream",
     "text": [
      "R2 =  -3.249187320886193e-05\n",
      "MSE =  2134711479.312433\n"
     ]
    }
   ],
   "source": [
    "yln_pred = ln_model.predict(x_test)\n",
    "from sklearn.metrics import r2_score, mean_squared_error, mean_absolute_error\n",
    "print('R2 = ', r2_score(y_test, yln_pred))\n",
    "print('MSE = ', mean_squared_error(y_test, yln_pred))"
   ]
  },
  {
   "cell_type": "markdown",
   "id": "3fd37331",
   "metadata": {},
   "source": [
    "# Decision Tree Regressor "
   ]
  },
  {
   "cell_type": "code",
   "execution_count": 66,
   "id": "d061558e",
   "metadata": {},
   "outputs": [
    {
     "name": "stdout",
     "output_type": "stream",
     "text": [
      "Time taken to run : 1.3278427124023438 seconds\n"
     ]
    }
   ],
   "source": [
    "from time import time\n",
    "start = time()\n",
    "from sklearn.tree import DecisionTreeRegressor\n",
    "dt_model = DecisionTreeRegressor()\n",
    "\n",
    "dt_model.fit(x_train, y_train)\n",
    "print(f'Time taken to run : {time() - start} seconds')"
   ]
  },
  {
   "cell_type": "code",
   "execution_count": 67,
   "id": "9bc4d4d7",
   "metadata": {},
   "outputs": [
    {
     "name": "stdout",
     "output_type": "stream",
     "text": [
      "R2 =  -0.01777805786986031\n",
      "MSE =  2172591911.9461665\n"
     ]
    }
   ],
   "source": [
    "ydt_pred = dt_model.predict(x_test)\n",
    "print('R2 = ', r2_score(y_test, ydt_pred))\n",
    "print('MSE = ', mean_squared_error(y_test, ydt_pred))"
   ]
  },
  {
   "cell_type": "markdown",
   "id": "19a166d9",
   "metadata": {},
   "source": [
    "# Ridge Regression"
   ]
  },
  {
   "cell_type": "code",
   "execution_count": 68,
   "id": "ab2b6ecd",
   "metadata": {},
   "outputs": [
    {
     "name": "stdout",
     "output_type": "stream",
     "text": [
      "Time taken to run : 0.09620094299316406 seconds\n"
     ]
    }
   ],
   "source": [
    "from time import time\n",
    "start = time()\n",
    "from sklearn.linear_model import Ridge\n",
    "ridge_model = Ridge(alpha = 1.0)\n",
    "ridge_model.fit(x_train, y_train)\n",
    "print(f'Time taken to run : {time() - start} seconds')"
   ]
  },
  {
   "cell_type": "code",
   "execution_count": 69,
   "id": "d4397489",
   "metadata": {},
   "outputs": [
    {
     "name": "stdout",
     "output_type": "stream",
     "text": [
      "R2 =  -3.249127995563761e-05\n",
      "MSE =  2134711478.0460494\n"
     ]
    }
   ],
   "source": [
    "yridge_pred = ridge_model.predict(x_test)\n",
    "print('R2 = ', r2_score(y_test, yridge_pred))\n",
    "print('MSE = ', mean_squared_error(y_test, yridge_pred))"
   ]
  },
  {
   "cell_type": "markdown",
   "id": "8072d346",
   "metadata": {},
   "source": [
    "# LASSO Regression"
   ]
  },
  {
   "cell_type": "code",
   "execution_count": 70,
   "id": "b0fc9b50",
   "metadata": {},
   "outputs": [
    {
     "name": "stdout",
     "output_type": "stream",
     "text": [
      "Time taken to run : 0.36821961402893066 seconds\n"
     ]
    }
   ],
   "source": [
    "from time import time\n",
    "start = time()\n",
    "from sklearn.linear_model import Lasso\n",
    "lasso_model = Lasso(alpha = 0.1)\n",
    "\n",
    "lasso_model.fit(x_train, y_train)\n",
    "print(f'Time taken to run : {time() - start} seconds')"
   ]
  },
  {
   "cell_type": "code",
   "execution_count": 71,
   "id": "f1935c3a",
   "metadata": {},
   "outputs": [
    {
     "name": "stdout",
     "output_type": "stream",
     "text": [
      "R2 =  -3.237836716785125e-05\n",
      "MSE =  2134711237.0176568\n"
     ]
    }
   ],
   "source": [
    "ylasso_pred = lasso_model.predict(x_test)\n",
    "print('R2 = ', r2_score(y_test, ylasso_pred))\n",
    "print('MSE = ', mean_squared_error(y_test, ylasso_pred))"
   ]
  },
  {
   "cell_type": "markdown",
   "id": "d209f90c",
   "metadata": {},
   "source": [
    "# Random Forest Regressor"
   ]
  },
  {
   "cell_type": "code",
   "execution_count": 72,
   "id": "f73a00f5",
   "metadata": {},
   "outputs": [
    {
     "name": "stdout",
     "output_type": "stream",
     "text": [
      "Time taken to run : 87.98840427398682 seconds\n"
     ]
    }
   ],
   "source": [
    "from time import time\n",
    "start = time()\n",
    "from sklearn.ensemble import RandomForestRegressor\n",
    "rf_model = RandomForestRegressor()\n",
    "\n",
    "rf_model.fit(x_train, y_train)\n",
    "print(f'Time taken to run : {time() - start} seconds')"
   ]
  },
  {
   "cell_type": "code",
   "execution_count": 73,
   "id": "eac857d3",
   "metadata": {},
   "outputs": [
    {
     "name": "stdout",
     "output_type": "stream",
     "text": [
      "R2 =  -0.017949375647601462\n",
      "MSE =  2172957614.0905733\n"
     ]
    }
   ],
   "source": [
    "yrf_pred = rf_model.predict(x_test)\n",
    "print('R2 = ', r2_score(y_test, yrf_pred))\n",
    "print('MSE = ', mean_squared_error(y_test, yrf_pred))"
   ]
  },
  {
   "cell_type": "markdown",
   "id": "d50cd997",
   "metadata": {},
   "source": [
    "# KNN Regressor"
   ]
  },
  {
   "cell_type": "markdown",
   "id": "71d6437f",
   "metadata": {},
   "source": [
    "## Elbow Method "
   ]
  },
  {
   "cell_type": "code",
   "execution_count": 74,
   "id": "b7fc41a0",
   "metadata": {},
   "outputs": [
    {
     "name": "stdout",
     "output_type": "stream",
     "text": [
      "[65703.64668465487, 56615.59016180098, 53546.45329212054, 51889.39642087212, 50806.001318613555, 50124.7019019659, 49565.08737377706, 49106.40950695672, 48787.743376007784, 48506.972864882744]\n"
     ]
    },
    {
     "data": {
      "text/plain": [
       "<AxesSubplot:>"
      ]
     },
     "execution_count": 74,
     "metadata": {},
     "output_type": "execute_result"
    },
    {
     "data": {
      "image/png": "[encoded data removed]",
      "text/plain": [
       "<Figure size 432x288 with 1 Axes>"
      ]
     },
     "metadata": {
      "needs_background": "light"
     },
     "output_type": "display_data"
    }
   ],
   "source": [
    "from sklearn.neighbors import KNeighborsRegressor\n",
    "from math import sqrt\n",
    "\n",
    "rmse_val = []\n",
    "for k in range(1, 11):\n",
    "    knn = KNeighborsRegressor(n_neighbors = k)\n",
    "    knn.fit(x_train, y_train)\n",
    "    pred = knn.predict(x_test)\n",
    "    error = sqrt(mean_squared_error(y_test, pred))\n",
    "    rmse_val.append(error)\n",
    "print(rmse_val)\n",
    "\n",
    "pd.DataFrame(rmse_val).plot()"
   ]
  },
  {
   "cell_type": "code",
   "execution_count": 75,
   "id": "d269bb50",
   "metadata": {},
   "outputs": [
    {
     "name": "stdout",
     "output_type": "stream",
     "text": [
      "Time taken to run : 5.208454370498657 seconds\n",
      "R2 =  -0.5015749095126181\n",
      "MSE =  3205325049.369016\n"
     ]
    }
   ],
   "source": [
    "from time import time\n",
    "start = time()\n",
    "knn_model = KNeighborsRegressor(n_neighbors = 2)\n",
    "knn_model.fit(x_train, y_train)\n",
    "print(f'Time taken to run : {time() - start} seconds')\n",
    "yknn_pred = knn_model.predict(x_test)\n",
    "print('R2 = ', r2_score(y_test, yknn_pred))\n",
    "print('MSE = ', mean_squared_error(y_test, yknn_pred))"
   ]
  },
  {
   "cell_type": "markdown",
   "id": "b348187b",
   "metadata": {},
   "source": [
    "# Standard Scaling"
   ]
  },
  {
   "cell_type": "code",
   "execution_count": 76,
   "id": "14ef05ed",
   "metadata": {},
   "outputs": [
    {
     "data": {
      "text/html": [
       "<div>\n",
       "<style scoped>\n",
       "    .dataframe tbody tr th:only-of-type {\n",
       "        vertical-align: middle;\n",
       "    }\n",
       "\n",
       "    .dataframe tbody tr th {\n",
       "        vertical-align: top;\n",
       "    }\n",
       "\n",
       "    .dataframe thead th {\n",
       "        text-align: right;\n",
       "    }\n",
       "</style>\n",
       "<table border=\"1\" class=\"dataframe\">\n",
       "  <thead>\n",
       "    <tr style=\"text-align: right;\">\n",
       "      <th></th>\n",
       "      <th>Age in Yrs.</th>\n",
       "      <th>year_of_experience</th>\n",
       "      <th>Gender_M</th>\n",
       "      <th>Region_Northeast</th>\n",
       "      <th>Region_South</th>\n",
       "      <th>Region_West</th>\n",
       "    </tr>\n",
       "  </thead>\n",
       "  <tbody>\n",
       "    <tr>\n",
       "      <th>0</th>\n",
       "      <td>-1.375734</td>\n",
       "      <td>-0.783217</td>\n",
       "      <td>-1.00072</td>\n",
       "      <td>-0.464717</td>\n",
       "      <td>1.303054</td>\n",
       "      <td>-0.463279</td>\n",
       "    </tr>\n",
       "    <tr>\n",
       "      <th>1</th>\n",
       "      <td>-1.109123</td>\n",
       "      <td>-0.434131</td>\n",
       "      <td>0.99928</td>\n",
       "      <td>-0.464717</td>\n",
       "      <td>1.303054</td>\n",
       "      <td>-0.463279</td>\n",
       "    </tr>\n",
       "    <tr>\n",
       "      <th>2</th>\n",
       "      <td>-0.309288</td>\n",
       "      <td>-0.550493</td>\n",
       "      <td>0.99928</td>\n",
       "      <td>2.151846</td>\n",
       "      <td>-0.767428</td>\n",
       "      <td>-0.463279</td>\n",
       "    </tr>\n",
       "    <tr>\n",
       "      <th>3</th>\n",
       "      <td>0.223935</td>\n",
       "      <td>1.078578</td>\n",
       "      <td>0.99928</td>\n",
       "      <td>-0.464717</td>\n",
       "      <td>1.303054</td>\n",
       "      <td>-0.463279</td>\n",
       "    </tr>\n",
       "    <tr>\n",
       "      <th>4</th>\n",
       "      <td>0.934899</td>\n",
       "      <td>-0.201406</td>\n",
       "      <td>0.99928</td>\n",
       "      <td>-0.464717</td>\n",
       "      <td>-0.767428</td>\n",
       "      <td>-0.463279</td>\n",
       "    </tr>\n",
       "  </tbody>\n",
       "</table>\n",
       "</div>"
      ],
      "text/plain": [
       "   Age in Yrs.  year_of_experience  Gender_M  Region_Northeast  Region_South  \\\n",
       "0    -1.375734           -0.783217  -1.00072         -0.464717      1.303054   \n",
       "1    -1.109123           -0.434131   0.99928         -0.464717      1.303054   \n",
       "2    -0.309288           -0.550493   0.99928          2.151846     -0.767428   \n",
       "3     0.223935            1.078578   0.99928         -0.464717      1.303054   \n",
       "4     0.934899           -0.201406   0.99928         -0.464717     -0.767428   \n",
       "\n",
       "   Region_West  \n",
       "0    -0.463279  \n",
       "1    -0.463279  \n",
       "2    -0.463279  \n",
       "3    -0.463279  \n",
       "4    -0.463279  "
      ]
     },
     "execution_count": 76,
     "metadata": {},
     "output_type": "execute_result"
    }
   ],
   "source": [
    "from sklearn.preprocessing import StandardScaler\n",
    "scaler = StandardScaler()\n",
    "\n",
    "cl = x.columns\n",
    "x_scaled = scaler.fit_transform(x)\n",
    "x_scaled = pd.DataFrame(x_scaled, columns = cl)\n",
    "x_scaled.head()"
   ]
  },
  {
   "cell_type": "code",
   "execution_count": 77,
   "id": "e1beafd4",
   "metadata": {},
   "outputs": [],
   "source": [
    "xst_train, xst_test, yst_train, yst_test = train_test_split(x_scaled, y, test_size = 0.25, random_state = 42)"
   ]
  },
  {
   "cell_type": "markdown",
   "id": "9b4a9a78",
   "metadata": {},
   "source": [
    "### Linear Regression"
   ]
  },
  {
   "cell_type": "code",
   "execution_count": 78,
   "id": "a7d484e8",
   "metadata": {},
   "outputs": [
    {
     "name": "stdout",
     "output_type": "stream",
     "text": [
      "Time taken to run : 0.11704015731811523 seconds\n",
      "R2 =  -3.249187320886193e-05\n",
      "MSE =  2134711479.312433\n"
     ]
    }
   ],
   "source": [
    "from time import time\n",
    "start = time()\n",
    "ln_model.fit(xst_train, yst_train)\n",
    "print(f'Time taken to run : {time() - start} seconds')\n",
    "yst_pred = ln_model.predict(xst_test)\n",
    "print('R2 = ', r2_score(yst_test, yst_pred))\n",
    "print('MSE = ', mean_squared_error(yst_test, yst_pred))"
   ]
  },
  {
   "cell_type": "markdown",
   "id": "9d4a1c79",
   "metadata": {},
   "source": [
    "### Decision Tree Regressor"
   ]
  },
  {
   "cell_type": "code",
   "execution_count": 79,
   "id": "fe55b6fd",
   "metadata": {},
   "outputs": [
    {
     "name": "stdout",
     "output_type": "stream",
     "text": [
      "Time taken to run : 1.2896292209625244 seconds\n",
      "R2 =  -0.01777805786986031\n",
      "MSE =  2172591911.9461665\n"
     ]
    }
   ],
   "source": [
    "from time import time\n",
    "start = time()\n",
    "dt_model.fit(xst_train, yst_train)\n",
    "print(f'Time taken to run : {time() - start} seconds')\n",
    "yst_pred = dt_model.predict(xst_test)\n",
    "print('R2 = ', r2_score(yst_test, yst_pred))\n",
    "print('MSE = ', mean_squared_error(yst_test, yst_pred))"
   ]
  },
  {
   "cell_type": "markdown",
   "id": "bc00c96e",
   "metadata": {},
   "source": [
    "### Ridge Regression"
   ]
  },
  {
   "cell_type": "code",
   "execution_count": 80,
   "id": "ee0c1c6c",
   "metadata": {},
   "outputs": [
    {
     "name": "stdout",
     "output_type": "stream",
     "text": [
      "Time taken to run : 0.08949685096740723 seconds\n",
      "R2 =  -3.249174033648217e-05\n",
      "MSE =  2134711479.028798\n"
     ]
    }
   ],
   "source": [
    "from time import time\n",
    "start = time()\n",
    "ridge_model.fit(xst_train, yst_train)\n",
    "print(f'Time taken to run : {time() - start} seconds')\n",
    "yst_pred = ridge_model.predict(xst_test)\n",
    "print('R2 = ', r2_score(yst_test, yst_pred))\n",
    "print('MSE = ', mean_squared_error(yst_test, yst_pred))"
   ]
  },
  {
   "cell_type": "markdown",
   "id": "16070143",
   "metadata": {},
   "source": [
    "### LASSO Regression"
   ]
  },
  {
   "cell_type": "code",
   "execution_count": 81,
   "id": "ca55f1bd",
   "metadata": {},
   "outputs": [
    {
     "name": "stdout",
     "output_type": "stream",
     "text": [
      "Time taken to run : 0.2939474582672119 seconds\n",
      "R2 =  -3.241285606514488e-05\n",
      "MSE =  2134711310.6391096\n"
     ]
    }
   ],
   "source": [
    "from time import time\n",
    "start = time()\n",
    "lasso_model.fit(xst_train, yst_train)\n",
    "print(f'Time taken to run : {time() - start} seconds')\n",
    "yst_pred = lasso_model.predict(xst_test)\n",
    "print('R2 = ', r2_score(yst_test, yst_pred))\n",
    "print('MSE = ', mean_squared_error(yst_test, yst_pred))"
   ]
  },
  {
   "cell_type": "markdown",
   "id": "698b455a",
   "metadata": {},
   "source": [
    "### Random Forest Regressor"
   ]
  },
  {
   "cell_type": "code",
   "execution_count": 82,
   "id": "4f93853e",
   "metadata": {},
   "outputs": [
    {
     "name": "stdout",
     "output_type": "stream",
     "text": [
      "Time taken to run : 87.25380611419678 seconds\n",
      "R2 =  -0.0179824513857465\n",
      "MSE =  2173028218.954394\n"
     ]
    }
   ],
   "source": [
    "from time import time\n",
    "start = time()\n",
    "rf_model.fit(xst_train, yst_train)\n",
    "print(f'Time taken to run : {time() - start} seconds')\n",
    "yst_pred = rf_model.predict(xst_test)\n",
    "print('R2 = ', r2_score(yst_test, yst_pred))\n",
    "print('MSE = ', mean_squared_error(yst_test, yst_pred))"
   ]
  },
  {
   "cell_type": "markdown",
   "id": "94762168",
   "metadata": {},
   "source": [
    "### KNN Regressor"
   ]
  },
  {
   "cell_type": "code",
   "execution_count": 83,
   "id": "00f7ccee",
   "metadata": {},
   "outputs": [
    {
     "name": "stdout",
     "output_type": "stream",
     "text": [
      "Time taken to run : 117.42117643356323 seconds\n",
      "R2 =  -0.49395829702221294\n",
      "MSE =  3189066307.529252\n"
     ]
    }
   ],
   "source": [
    "from time import time\n",
    "start = time()\n",
    "knn_model.fit(xst_train, yst_train)\n",
    "print(f'Time taken to run : {time() - start} seconds')\n",
    "yst_pred = knn_model.predict(xst_test)\n",
    "print('R2 = ', r2_score(yst_test, yst_pred))\n",
    "print('MSE = ', mean_squared_error(yst_test, yst_pred))"
   ]
  },
  {
   "cell_type": "markdown",
   "id": "bc9a1184",
   "metadata": {},
   "source": [
    "# Normalization"
   ]
  },
  {
   "cell_type": "code",
   "execution_count": 84,
   "id": "b81a40b1",
   "metadata": {},
   "outputs": [
    {
     "data": {
      "text/html": [
       "<div>\n",
       "<style scoped>\n",
       "    .dataframe tbody tr th:only-of-type {\n",
       "        vertical-align: middle;\n",
       "    }\n",
       "\n",
       "    .dataframe tbody tr th {\n",
       "        vertical-align: top;\n",
       "    }\n",
       "\n",
       "    .dataframe thead th {\n",
       "        text-align: right;\n",
       "    }\n",
       "</style>\n",
       "<table border=\"1\" class=\"dataframe\">\n",
       "  <thead>\n",
       "    <tr style=\"text-align: right;\">\n",
       "      <th></th>\n",
       "      <th>Age in Yrs.</th>\n",
       "      <th>year_of_experience</th>\n",
       "      <th>Gender_M</th>\n",
       "      <th>Region_Northeast</th>\n",
       "      <th>Region_South</th>\n",
       "      <th>Region_West</th>\n",
       "    </tr>\n",
       "  </thead>\n",
       "  <tbody>\n",
       "    <tr>\n",
       "      <th>0</th>\n",
       "      <td>0.992095</td>\n",
       "      <td>0.119051</td>\n",
       "      <td>0.000000</td>\n",
       "      <td>0.000000</td>\n",
       "      <td>0.039684</td>\n",
       "      <td>0.0</td>\n",
       "    </tr>\n",
       "    <tr>\n",
       "      <th>1</th>\n",
       "      <td>0.976612</td>\n",
       "      <td>0.209274</td>\n",
       "      <td>0.034879</td>\n",
       "      <td>0.000000</td>\n",
       "      <td>0.034879</td>\n",
       "      <td>0.0</td>\n",
       "    </tr>\n",
       "    <tr>\n",
       "      <th>2</th>\n",
       "      <td>0.990282</td>\n",
       "      <td>0.133822</td>\n",
       "      <td>0.026764</td>\n",
       "      <td>0.026764</td>\n",
       "      <td>0.000000</td>\n",
       "      <td>0.0</td>\n",
       "    </tr>\n",
       "    <tr>\n",
       "      <th>3</th>\n",
       "      <td>0.914273</td>\n",
       "      <td>0.403981</td>\n",
       "      <td>0.021262</td>\n",
       "      <td>0.000000</td>\n",
       "      <td>0.021262</td>\n",
       "      <td>0.0</td>\n",
       "    </tr>\n",
       "    <tr>\n",
       "      <th>4</th>\n",
       "      <td>0.987734</td>\n",
       "      <td>0.154939</td>\n",
       "      <td>0.019367</td>\n",
       "      <td>0.000000</td>\n",
       "      <td>0.000000</td>\n",
       "      <td>0.0</td>\n",
       "    </tr>\n",
       "  </tbody>\n",
       "</table>\n",
       "</div>"
      ],
      "text/plain": [
       "   Age in Yrs.  year_of_experience  Gender_M  Region_Northeast  Region_South  \\\n",
       "0     0.992095            0.119051  0.000000          0.000000      0.039684   \n",
       "1     0.976612            0.209274  0.034879          0.000000      0.034879   \n",
       "2     0.990282            0.133822  0.026764          0.026764      0.000000   \n",
       "3     0.914273            0.403981  0.021262          0.000000      0.021262   \n",
       "4     0.987734            0.154939  0.019367          0.000000      0.000000   \n",
       "\n",
       "   Region_West  \n",
       "0          0.0  \n",
       "1          0.0  \n",
       "2          0.0  \n",
       "3          0.0  \n",
       "4          0.0  "
      ]
     },
     "execution_count": 84,
     "metadata": {},
     "output_type": "execute_result"
    }
   ],
   "source": [
    "from sklearn.preprocessing import Normalizer\n",
    "x_norm = Normalizer().fit_transform(x)\n",
    "x_norm = pd.DataFrame(x_norm, columns = cl)\n",
    "x_norm.head()"
   ]
  },
  {
   "cell_type": "code",
   "execution_count": 85,
   "id": "2e619d8f",
   "metadata": {},
   "outputs": [],
   "source": [
    "xnm_train, xnm_test, ynm_train, ynm_test = train_test_split(x_norm, y, test_size = 0.25, random_state = 42)"
   ]
  },
  {
   "cell_type": "markdown",
   "id": "af487898",
   "metadata": {},
   "source": [
    "### Linear Regression"
   ]
  },
  {
   "cell_type": "code",
   "execution_count": 86,
   "id": "098addeb",
   "metadata": {},
   "outputs": [
    {
     "name": "stdout",
     "output_type": "stream",
     "text": [
      "Time taken to run : 0.12013387680053711 seconds\n",
      "R2 =  -6.8595145275685e-05\n",
      "MSE =  2134788546.877685\n"
     ]
    }
   ],
   "source": [
    "from time import time\n",
    "start = time()\n",
    "ln_model.fit(xnm_train, ynm_train)\n",
    "print(f'Time taken to run : {time() - start} seconds')\n",
    "ynm_pred = ln_model.predict(xnm_test)\n",
    "print('R2 = ', r2_score(ynm_test, ynm_pred))\n",
    "print('MSE = ', mean_squared_error(ynm_test, ynm_pred))"
   ]
  },
  {
   "cell_type": "markdown",
   "id": "ab2d6cab",
   "metadata": {},
   "source": [
    "### Decision tree "
   ]
  },
  {
   "cell_type": "code",
   "execution_count": 87,
   "id": "50f6be60",
   "metadata": {},
   "outputs": [
    {
     "name": "stdout",
     "output_type": "stream",
     "text": [
      "Time taken to run : 2.9670753479003906 seconds\n",
      "R2 =  -0.01724882113910775\n",
      "MSE =  2171462180.9288325\n"
     ]
    }
   ],
   "source": [
    "from time import time\n",
    "start = time()\n",
    "dt_model.fit(xnm_train, ynm_train)\n",
    "print(f'Time taken to run : {time() - start} seconds')\n",
    "ynm_pred = dt_model.predict(xnm_test)\n",
    "print('R2 = ', r2_score(ynm_test, ynm_pred))\n",
    "print('MSE = ', mean_squared_error(ynm_test, ynm_pred))"
   ]
  },
  {
   "cell_type": "markdown",
   "id": "4f74a27f",
   "metadata": {},
   "source": [
    "### Ridge regression"
   ]
  },
  {
   "cell_type": "code",
   "execution_count": 88,
   "id": "50e4be5c",
   "metadata": {},
   "outputs": [
    {
     "name": "stdout",
     "output_type": "stream",
     "text": [
      "Time taken to run : 0.08040642738342285 seconds\n",
      "R2 =  -6.677666387555625e-05\n",
      "MSE =  2134784665.0706923\n"
     ]
    }
   ],
   "source": [
    "from time import time\n",
    "start = time()\n",
    "ridge_model.fit(xnm_train, ynm_train)\n",
    "print(f'Time taken to run : {time() - start} seconds')\n",
    "ynm_pred = ridge_model.predict(xnm_test)\n",
    "print('R2 = ', r2_score(ynm_test, ynm_pred))\n",
    "print('MSE = ', mean_squared_error(ynm_test, ynm_pred))"
   ]
  },
  {
   "cell_type": "markdown",
   "id": "8f7223ef",
   "metadata": {},
   "source": [
    "### LASSO regressor"
   ]
  },
  {
   "cell_type": "code",
   "execution_count": 89,
   "id": "22274351",
   "metadata": {},
   "outputs": [
    {
     "name": "stdout",
     "output_type": "stream",
     "text": [
      "Time taken to run : 1.3344168663024902 seconds\n",
      "R2 =  -6.138203100114481e-05\n",
      "MSE =  2134773149.4601326\n"
     ]
    }
   ],
   "source": [
    "from time import time\n",
    "start = time()\n",
    "lasso_model.fit(xnm_train, ynm_train)\n",
    "print(f'Time taken to run : {time() - start} seconds')\n",
    "ynm_pred = lasso_model.predict(xnm_test)\n",
    "print('R2 = ', r2_score(ynm_test, ynm_pred))\n",
    "print('MSE = ', mean_squared_error(ynm_test, ynm_pred))"
   ]
  },
  {
   "cell_type": "markdown",
   "id": "6e742516",
   "metadata": {},
   "source": [
    "### Random forest regressor"
   ]
  },
  {
   "cell_type": "code",
   "execution_count": 90,
   "id": "f9f42822",
   "metadata": {},
   "outputs": [
    {
     "name": "stdout",
     "output_type": "stream",
     "text": [
      "Time taken to run : 229.49516701698303 seconds\n",
      "R2 =  -0.01741867537670516\n",
      "MSE =  2171824758.9388027\n"
     ]
    }
   ],
   "source": [
    "from time import time\n",
    "start = time()\n",
    "rf_model.fit(xnm_train, ynm_train)\n",
    "print(f'Time taken to run : {time() - start} seconds')\n",
    "ynm_pred = rf_model.predict(xnm_test)\n",
    "print('R2 = ', r2_score(ynm_test, ynm_pred))\n",
    "print('MSE = ', mean_squared_error(ynm_test, ynm_pred))"
   ]
  },
  {
   "cell_type": "markdown",
   "id": "99c44f00",
   "metadata": {},
   "source": [
    "### KNN Regressor"
   ]
  },
  {
   "cell_type": "code",
   "execution_count": 91,
   "id": "cea5e56b",
   "metadata": {},
   "outputs": [
    {
     "name": "stdout",
     "output_type": "stream",
     "text": [
      "Time taken to run : 12.272186994552612 seconds\n",
      "R2 =  -0.49272888038268214\n",
      "MSE =  3186441942.986508\n"
     ]
    }
   ],
   "source": [
    "from time import time\n",
    "start = time()\n",
    "knn_model.fit(xnm_train, ynm_train)\n",
    "print(f'Time taken to run : {time() - start} seconds')\n",
    "ynm_pred = knn_model.predict(xnm_test)\n",
    "print('R2 = ', r2_score(ynm_test, ynm_pred))\n",
    "print('MSE = ', mean_squared_error(ynm_test, ynm_pred))"
   ]
  },
  {
   "cell_type": "markdown",
   "id": "c1b06353",
   "metadata": {},
   "source": [
    "# RMSE & MAE"
   ]
  },
  {
   "cell_type": "code",
   "execution_count": 98,
   "id": "a2db334e",
   "metadata": {},
   "outputs": [
    {
     "name": "stdout",
     "output_type": "stream",
     "text": [
      "Linear regression: RMSE =  46202.937994379026  MAE =  40015.41207942616\n"
     ]
    }
   ],
   "source": [
    "print('Linear regression: RMSE = ', mean_squared_error(y_test, yln_pred, squared = False),\n",
    "      ' MAE = ', mean_absolute_error(y_test, yln_pred))"
   ]
  },
  {
   "cell_type": "code",
   "execution_count": 99,
   "id": "9f8a6d76",
   "metadata": {},
   "outputs": [
    {
     "name": "stdout",
     "output_type": "stream",
     "text": [
      "Decision tree regression: RMSE =  46611.070701563665  MAE =  40245.61982797551\n"
     ]
    }
   ],
   "source": [
    "print('Decision tree regression: RMSE = ', mean_squared_error(y_test, ydt_pred, squared = False),\n",
    "      ' MAE = ', mean_absolute_error(y_test, ydt_pred))"
   ]
  },
  {
   "cell_type": "code",
   "execution_count": 100,
   "id": "f49fe3ad",
   "metadata": {},
   "outputs": [
    {
     "name": "stdout",
     "output_type": "stream",
     "text": [
      "Ridge regression: RMSE =  46202.93798067445  MAE =  40015.41206750258\n"
     ]
    }
   ],
   "source": [
    "print('Ridge regression: RMSE = ', mean_squared_error(y_test, yridge_pred, squared = False),\n",
    "      ' MAE = ', mean_absolute_error(y_test, yridge_pred))"
   ]
  },
  {
   "cell_type": "code",
   "execution_count": 101,
   "id": "7a0c580c",
   "metadata": {},
   "outputs": [
    {
     "name": "stdout",
     "output_type": "stream",
     "text": [
      "LASSO regression: RMSE =  46202.93537230786  MAE =  40015.40987006349\n"
     ]
    }
   ],
   "source": [
    "print('LASSO regression: RMSE = ', mean_squared_error(y_test, ylasso_pred, squared = False),\n",
    "      ' MAE = ', mean_absolute_error(y_test, ylasso_pred))"
   ]
  },
  {
   "cell_type": "code",
   "execution_count": 102,
   "id": "6f8d64ae",
   "metadata": {},
   "outputs": [
    {
     "name": "stdout",
     "output_type": "stream",
     "text": [
      "Random forest regression: RMSE =  46614.99344728661  MAE =  40248.416374082786\n"
     ]
    }
   ],
   "source": [
    "print('Random forest regression: RMSE = ', mean_squared_error(y_test, yrf_pred, squared = False),\n",
    "      ' MAE = ', mean_absolute_error(y_test, yrf_pred))"
   ]
  },
  {
   "cell_type": "code",
   "execution_count": 103,
   "id": "cf5fd982",
   "metadata": {},
   "outputs": [
    {
     "name": "stdout",
     "output_type": "stream",
     "text": [
      "KNN regression: RMSE =  56615.59016180098  MAE =  46708.082312\n"
     ]
    }
   ],
   "source": [
    "print('KNN regression: RMSE = ', mean_squared_error(y_test, yknn_pred, squared = False),\n",
    "      ' MAE = ', mean_absolute_error(y_test, yknn_pred))"
   ]
  },
  {
   "cell_type": "markdown",
   "id": "6a531251",
   "metadata": {},
   "source": [
    "# Adjusted R square"
   ]
  },
  {
   "cell_type": "code",
   "execution_count": 129,
   "id": "5867f5a7",
   "metadata": {},
   "outputs": [],
   "source": [
    "n = x_train.shape[0]\n",
    "k = x_train.shape[1]\n",
    "def adj_r2(pred):\n",
    "    return (1 - (1 - r2_score(y_test, pred)) * (n - 1) / (n - k - 1))"
   ]
  },
  {
   "cell_type": "code",
   "execution_count": 130,
   "id": "645bc7f0",
   "metadata": {},
   "outputs": [
    {
     "data": {
      "text/plain": [
       "-4.849269176077087e-05"
      ]
     },
     "execution_count": 130,
     "metadata": {},
     "output_type": "execute_result"
    }
   ],
   "source": [
    "adj_r2(yln_pred)"
   ]
  },
  {
   "cell_type": "code",
   "execution_count": 132,
   "id": "eb38f970",
   "metadata": {},
   "outputs": [
    {
     "data": {
      "text/plain": [
       "-0.017794342622768244"
      ]
     },
     "execution_count": 132,
     "metadata": {},
     "output_type": "execute_result"
    }
   ],
   "source": [
    "adj_r2(ydt_pred)"
   ]
  },
  {
   "cell_type": "code",
   "execution_count": 133,
   "id": "35a1f5df",
   "metadata": {},
   "outputs": [
    {
     "data": {
      "text/plain": [
       "-4.8492098497998626e-05"
      ]
     },
     "execution_count": 133,
     "metadata": {},
     "output_type": "execute_result"
    }
   ],
   "source": [
    "adj_r2(yridge_pred)"
   ]
  },
  {
   "cell_type": "code",
   "execution_count": 134,
   "id": "4c38f825",
   "metadata": {},
   "outputs": [
    {
     "data": {
      "text/plain": [
       "-4.8379183903657363e-05"
      ]
     },
     "execution_count": 134,
     "metadata": {},
     "output_type": "execute_result"
    }
   ],
   "source": [
    "adj_r2(ylasso_pred)"
   ]
  },
  {
   "cell_type": "code",
   "execution_count": 135,
   "id": "8d774f7c",
   "metadata": {},
   "outputs": [
    {
     "data": {
      "text/plain": [
       "-0.01796566314164494"
      ]
     },
     "execution_count": 135,
     "metadata": {},
     "output_type": "execute_result"
    }
   ],
   "source": [
    "adj_r2(yrf_pred)"
   ]
  },
  {
   "cell_type": "code",
   "execution_count": 136,
   "id": "df397ccb",
   "metadata": {},
   "outputs": [
    {
     "data": {
      "text/plain": [
       "-0.501598935159649"
      ]
     },
     "execution_count": 136,
     "metadata": {},
     "output_type": "execute_result"
    }
   ],
   "source": [
    "adj_r2(yknn_pred)"
   ]
  },
  {
   "cell_type": "markdown",
   "id": "bc990363",
   "metadata": {},
   "source": [
    "# Hyperparameter Tuning"
   ]
  },
  {
   "cell_type": "markdown",
   "id": "71570236",
   "metadata": {},
   "source": [
    "### GridsearchCV"
   ]
  },
  {
   "cell_type": "code",
   "execution_count": 137,
   "id": "3ddcbb31",
   "metadata": {},
   "outputs": [
    {
     "name": "stdout",
     "output_type": "stream",
     "text": [
      "R2 -46211.793\n",
      "Config: {'alpha': 0.99}\n"
     ]
    }
   ],
   "source": [
    "model_ = Ridge()\n",
    "from sklearn.model_selection import GridSearchCV, RepeatedKFold\n",
    "cv = RepeatedKFold(n_splits = 10, n_repeats = 3, random_state = 1)\n",
    "grid = dict()\n",
    "grid['alpha'] = np.arange(0, 1, 0.01)\n",
    "search = GridSearchCV(model_, grid, scoring ='neg_root_mean_squared_error', cv = cv, n_jobs = -1)\n",
    "results = search.fit(x_train, y_train)\n",
    "print('Config: %s' %results.best_params_)"
   ]
  },
  {
   "cell_type": "code",
   "execution_count": 139,
   "id": "63fec8ba",
   "metadata": {},
   "outputs": [
    {
     "name": "stdout",
     "output_type": "stream",
     "text": [
      "MSE -46211.793\n"
     ]
    }
   ],
   "source": [
    "print('MSE %.3f' %results.best_score_)"
   ]
  },
  {
   "cell_type": "markdown",
   "id": "0ec1f663",
   "metadata": {},
   "source": [
    "### RidgeCV"
   ]
  },
  {
   "cell_type": "code",
   "execution_count": 138,
   "id": "ea5cb71a",
   "metadata": {},
   "outputs": [
    {
     "name": "stdout",
     "output_type": "stream",
     "text": [
      "alpha: 0.990000\n"
     ]
    }
   ],
   "source": [
    "from sklearn.linear_model import RidgeCV\n",
    "model__ = RidgeCV(alphas = np.arange(0, 1, 0.01), cv = cv, scoring = 'neg_root_mean_squared_error')\n",
    "model__.fit(x_train, y_train)\n",
    "print('alpha: %f' %model__.alpha_)"
   ]
  },
  {
   "cell_type": "code",
   "execution_count": null,
   "id": "a9a31c76",
   "metadata": {},
   "outputs": [],
   "source": []
  }
 ],
 "metadata": {
  "kernelspec": {
   "display_name": "Python 3",
   "language": "python",
   "name": "python3"
  },
  "language_info": {
   "codemirror_mode": {
    "name": "ipython",
    "version": 3
   },
   "file_extension": ".py",
   "mimetype": "text/x-python",
   "name": "python",
   "nbconvert_exporter": "python",
   "pygments_lexer": "ipython3",
   "version": "3.8.8"
  }
 },
 "nbformat": 4,
 "nbformat_minor": 5
}
